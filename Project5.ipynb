{
 "cells": [
  {
   "cell_type": "code",
   "execution_count": 1,
   "metadata": {},
   "outputs": [],
   "source": [
    "import warnings\n",
    "warnings.filterwarnings('ignore')\n",
    "import numpy as np\n",
    "import pandas as pd\n",
    "import re\n",
    "\n",
    "from sklearn.preprocessing import OneHotEncoder,StandardScaler,OrdinalEncoder,MinMaxScaler\n",
    "from sklearn.compose import ColumnTransformer,make_column_transformer\n",
    "from sklearn.pipeline import Pipeline,make_pipeline\n",
    "from sklearn.model_selection import train_test_split,GridSearchCV,RandomizedSearchCV,cross_val_score\n",
    "from sklearn.impute import SimpleImputer\n",
    "from sklearn.linear_model import LogisticRegression\n",
    "from sklearn.metrics import roc_auc_score,precision_recall_curve\n",
    "\n",
    "import xgboost as xgbs\n",
    "import eli5\n",
    "import seaborn as sns\n",
    "import matplotlib.pyplot as plt;"
   ]
  },
  {
   "cell_type": "code",
   "execution_count": 2,
   "metadata": {},
   "outputs": [],
   "source": [
    "prop_train=pd.read_csv(r'C:\\Users\\Priyanshi\\Downloads\\python\\Property_train.csv')\n",
    "prop_test=pd.read_csv(r'C:\\Users\\Priyanshi\\Downloads\\python\\Property_test_share.csv')"
   ]
  },
  {
   "cell_type": "code",
   "execution_count": 3,
   "metadata": {},
   "outputs": [
    {
     "data": {
      "text/plain": [
       "((62035, 31), (10948, 30))"
      ]
     },
     "execution_count": 3,
     "metadata": {},
     "output_type": "execute_result"
    }
   ],
   "source": [
    "prop_train.shape,prop_test.shape"
   ]
  },
  {
   "cell_type": "code",
   "execution_count": 4,
   "metadata": {},
   "outputs": [
    {
     "data": {
      "text/plain": [
       "0    54433\n",
       "1     7602\n",
       "Name: Junk, dtype: int64"
      ]
     },
     "execution_count": 4,
     "metadata": {},
     "output_type": "execute_result"
    }
   ],
   "source": [
    "prop_train[\"Junk\"].value_counts()"
   ]
  },
  {
   "cell_type": "code",
   "execution_count": 5,
   "metadata": {},
   "outputs": [],
   "source": [
    "#pd.set_option('display.expand_frame_repr',False)"
   ]
  },
  {
   "cell_type": "code",
   "execution_count": 6,
   "metadata": {},
   "outputs": [],
   "source": [
    "#to display all columns\n",
    "pd.set_option('display.max_columns',999)"
   ]
  },
  {
   "cell_type": "code",
   "execution_count": 7,
   "metadata": {},
   "outputs": [
    {
     "data": {
      "text/html": [
       "<div>\n",
       "<style scoped>\n",
       "    .dataframe tbody tr th:only-of-type {\n",
       "        vertical-align: middle;\n",
       "    }\n",
       "\n",
       "    .dataframe tbody tr th {\n",
       "        vertical-align: top;\n",
       "    }\n",
       "\n",
       "    .dataframe thead th {\n",
       "        text-align: right;\n",
       "    }\n",
       "</style>\n",
       "<table border=\"1\" class=\"dataframe\">\n",
       "  <thead>\n",
       "    <tr style=\"text-align: right;\">\n",
       "      <th></th>\n",
       "      <th>InteriorsStyle</th>\n",
       "      <th>PriceIndex8</th>\n",
       "      <th>ListDate</th>\n",
       "      <th>Material</th>\n",
       "      <th>PriceIndex9</th>\n",
       "      <th>Agency</th>\n",
       "      <th>AreaIncomeType</th>\n",
       "      <th>EnvRating</th>\n",
       "      <th>PriceIndex7</th>\n",
       "      <th>ExpeditedListing</th>\n",
       "      <th>PriceIndex4</th>\n",
       "      <th>PriceIndex1</th>\n",
       "      <th>PriceIndex6</th>\n",
       "      <th>PRIMEUNIT</th>\n",
       "      <th>Channel</th>\n",
       "      <th>Zip</th>\n",
       "      <th>InsurancePremiumIndex</th>\n",
       "      <th>PlotType</th>\n",
       "      <th>Architecture</th>\n",
       "      <th>PriceIndex3</th>\n",
       "      <th>Region</th>\n",
       "      <th>PriceIndex5</th>\n",
       "      <th>SubModel</th>\n",
       "      <th>Facade</th>\n",
       "      <th>State</th>\n",
       "      <th>NormalisedPopulation</th>\n",
       "      <th>BuildYear</th>\n",
       "      <th>RegionType</th>\n",
       "      <th>PropertyAge</th>\n",
       "      <th>PriceIndex2</th>\n",
       "    </tr>\n",
       "  </thead>\n",
       "  <tbody>\n",
       "    <tr>\n",
       "      <th>0</th>\n",
       "      <td>6LLJ</td>\n",
       "      <td>10645.0</td>\n",
       "      <td>9/22/2010</td>\n",
       "      <td>ZCI3</td>\n",
       "      <td>6015</td>\n",
       "      <td>CAT3</td>\n",
       "      <td>A</td>\n",
       "      <td>missing</td>\n",
       "      <td>9568.0</td>\n",
       "      <td>0</td>\n",
       "      <td>12432.0</td>\n",
       "      <td>6986.0</td>\n",
       "      <td>7133.0</td>\n",
       "      <td>missing</td>\n",
       "      <td>Other</td>\n",
       "      <td>27407</td>\n",
       "      <td>728</td>\n",
       "      <td>WHBI</td>\n",
       "      <td>I3Z9</td>\n",
       "      <td>10860.0</td>\n",
       "      <td>B</td>\n",
       "      <td>5911.0</td>\n",
       "      <td>UA42</td>\n",
       "      <td>BLUE</td>\n",
       "      <td>NC</td>\n",
       "      <td>67549</td>\n",
       "      <td>2006</td>\n",
       "      <td>A</td>\n",
       "      <td>4</td>\n",
       "      <td>8311.0</td>\n",
       "    </tr>\n",
       "    <tr>\n",
       "      <th>1</th>\n",
       "      <td>QD0H</td>\n",
       "      <td>9891.0</td>\n",
       "      <td>3/12/2010</td>\n",
       "      <td>RRJQ</td>\n",
       "      <td>7625</td>\n",
       "      <td>OTHER</td>\n",
       "      <td>A</td>\n",
       "      <td>missing</td>\n",
       "      <td>8888.0</td>\n",
       "      <td>0</td>\n",
       "      <td>12173.0</td>\n",
       "      <td>5954.0</td>\n",
       "      <td>6544.0</td>\n",
       "      <td>missing</td>\n",
       "      <td>Agent</td>\n",
       "      <td>32219</td>\n",
       "      <td>1334</td>\n",
       "      <td>32T2</td>\n",
       "      <td>4GZ4</td>\n",
       "      <td>10166.0</td>\n",
       "      <td>A</td>\n",
       "      <td>5370.0</td>\n",
       "      <td>BUNS</td>\n",
       "      <td>BLUE</td>\n",
       "      <td>FL</td>\n",
       "      <td>56570</td>\n",
       "      <td>2004</td>\n",
       "      <td>B</td>\n",
       "      <td>6</td>\n",
       "      <td>7123.0</td>\n",
       "    </tr>\n",
       "    <tr>\n",
       "      <th>2</th>\n",
       "      <td>I7GR</td>\n",
       "      <td>8426.0</td>\n",
       "      <td>10/12/2009</td>\n",
       "      <td>ZCI3</td>\n",
       "      <td>6900</td>\n",
       "      <td>CAT2</td>\n",
       "      <td>B</td>\n",
       "      <td>missing</td>\n",
       "      <td>7911.0</td>\n",
       "      <td>0</td>\n",
       "      <td>9134.0</td>\n",
       "      <td>7407.0</td>\n",
       "      <td>7339.0</td>\n",
       "      <td>missing</td>\n",
       "      <td>Other</td>\n",
       "      <td>74135</td>\n",
       "      <td>754</td>\n",
       "      <td>WHBI</td>\n",
       "      <td>TP7R</td>\n",
       "      <td>8500.0</td>\n",
       "      <td>A</td>\n",
       "      <td>6862.0</td>\n",
       "      <td>8YTZ</td>\n",
       "      <td>BLACK</td>\n",
       "      <td>OK</td>\n",
       "      <td>51840</td>\n",
       "      <td>2008</td>\n",
       "      <td>A</td>\n",
       "      <td>1</td>\n",
       "      <td>7994.0</td>\n",
       "    </tr>\n",
       "    <tr>\n",
       "      <th>3</th>\n",
       "      <td>5KS5</td>\n",
       "      <td>9269.0</td>\n",
       "      <td>5/20/2010</td>\n",
       "      <td>PRN0</td>\n",
       "      <td>6475</td>\n",
       "      <td>CAT1</td>\n",
       "      <td>B</td>\n",
       "      <td>missing</td>\n",
       "      <td>7773.0</td>\n",
       "      <td>0</td>\n",
       "      <td>8500.0</td>\n",
       "      <td>4241.0</td>\n",
       "      <td>6143.0</td>\n",
       "      <td>missing</td>\n",
       "      <td>Other</td>\n",
       "      <td>80229</td>\n",
       "      <td>1373</td>\n",
       "      <td>WHBI</td>\n",
       "      <td>YIK5</td>\n",
       "      <td>7294.0</td>\n",
       "      <td>A</td>\n",
       "      <td>4872.0</td>\n",
       "      <td>FIVQ</td>\n",
       "      <td>GREEN</td>\n",
       "      <td>CO</td>\n",
       "      <td>83300</td>\n",
       "      <td>2005</td>\n",
       "      <td>A</td>\n",
       "      <td>5</td>\n",
       "      <td>5259.0</td>\n",
       "    </tr>\n",
       "    <tr>\n",
       "      <th>4</th>\n",
       "      <td>918O</td>\n",
       "      <td>5366.0</td>\n",
       "      <td>1/13/2009</td>\n",
       "      <td>C8A4</td>\n",
       "      <td>3960</td>\n",
       "      <td>CAT1</td>\n",
       "      <td>A</td>\n",
       "      <td>missing</td>\n",
       "      <td>4134.0</td>\n",
       "      <td>0</td>\n",
       "      <td>5211.0</td>\n",
       "      <td>3352.0</td>\n",
       "      <td>4506.0</td>\n",
       "      <td>missing</td>\n",
       "      <td>Direct</td>\n",
       "      <td>28625</td>\n",
       "      <td>2939</td>\n",
       "      <td>WHBI</td>\n",
       "      <td>YIK5</td>\n",
       "      <td>4120.0</td>\n",
       "      <td>A</td>\n",
       "      <td>3365.0</td>\n",
       "      <td>KT8F</td>\n",
       "      <td>BLACK</td>\n",
       "      <td>NC</td>\n",
       "      <td>95035</td>\n",
       "      <td>2003</td>\n",
       "      <td>A</td>\n",
       "      <td>6</td>\n",
       "      <td>4362.0</td>\n",
       "    </tr>\n",
       "  </tbody>\n",
       "</table>\n",
       "</div>"
      ],
      "text/plain": [
       "  InteriorsStyle PriceIndex8    ListDate Material  PriceIndex9 Agency  \\\n",
       "0           6LLJ     10645.0   9/22/2010     ZCI3         6015   CAT3   \n",
       "1           QD0H      9891.0   3/12/2010     RRJQ         7625  OTHER   \n",
       "2           I7GR      8426.0  10/12/2009     ZCI3         6900   CAT2   \n",
       "3           5KS5      9269.0   5/20/2010     PRN0         6475   CAT1   \n",
       "4           918O      5366.0   1/13/2009     C8A4         3960   CAT1   \n",
       "\n",
       "  AreaIncomeType EnvRating PriceIndex7  ExpeditedListing PriceIndex4  \\\n",
       "0              A   missing      9568.0                 0     12432.0   \n",
       "1              A   missing      8888.0                 0     12173.0   \n",
       "2              B   missing      7911.0                 0      9134.0   \n",
       "3              B   missing      7773.0                 0      8500.0   \n",
       "4              A   missing      4134.0                 0      5211.0   \n",
       "\n",
       "  PriceIndex1 PriceIndex6 PRIMEUNIT Channel    Zip  InsurancePremiumIndex  \\\n",
       "0      6986.0      7133.0   missing   Other  27407                    728   \n",
       "1      5954.0      6544.0   missing   Agent  32219                   1334   \n",
       "2      7407.0      7339.0   missing   Other  74135                    754   \n",
       "3      4241.0      6143.0   missing   Other  80229                   1373   \n",
       "4      3352.0      4506.0   missing  Direct  28625                   2939   \n",
       "\n",
       "  PlotType Architecture PriceIndex3 Region PriceIndex5 SubModel Facade State  \\\n",
       "0     WHBI         I3Z9     10860.0      B      5911.0     UA42   BLUE    NC   \n",
       "1     32T2         4GZ4     10166.0      A      5370.0     BUNS   BLUE    FL   \n",
       "2     WHBI         TP7R      8500.0      A      6862.0     8YTZ  BLACK    OK   \n",
       "3     WHBI         YIK5      7294.0      A      4872.0     FIVQ  GREEN    CO   \n",
       "4     WHBI         YIK5      4120.0      A      3365.0     KT8F  BLACK    NC   \n",
       "\n",
       "   NormalisedPopulation  BuildYear RegionType  PropertyAge PriceIndex2  \n",
       "0                 67549       2006          A            4      8311.0  \n",
       "1                 56570       2004          B            6      7123.0  \n",
       "2                 51840       2008          A            1      7994.0  \n",
       "3                 83300       2005          A            5      5259.0  \n",
       "4                 95035       2003          A            6      4362.0  "
      ]
     },
     "execution_count": 7,
     "metadata": {},
     "output_type": "execute_result"
    }
   ],
   "source": [
    "prop_test.head()"
   ]
  },
  {
   "cell_type": "code",
   "execution_count": 8,
   "metadata": {},
   "outputs": [
    {
     "data": {
      "text/html": [
       "<div>\n",
       "<style scoped>\n",
       "    .dataframe tbody tr th:only-of-type {\n",
       "        vertical-align: middle;\n",
       "    }\n",
       "\n",
       "    .dataframe tbody tr th {\n",
       "        vertical-align: top;\n",
       "    }\n",
       "\n",
       "    .dataframe thead th {\n",
       "        text-align: right;\n",
       "    }\n",
       "</style>\n",
       "<table border=\"1\" class=\"dataframe\">\n",
       "  <thead>\n",
       "    <tr style=\"text-align: right;\">\n",
       "      <th></th>\n",
       "      <th>Junk</th>\n",
       "      <th>InteriorsStyle</th>\n",
       "      <th>PriceIndex8</th>\n",
       "      <th>ListDate</th>\n",
       "      <th>Material</th>\n",
       "      <th>PriceIndex9</th>\n",
       "      <th>Agency</th>\n",
       "      <th>AreaIncomeType</th>\n",
       "      <th>EnvRating</th>\n",
       "      <th>PriceIndex7</th>\n",
       "      <th>ExpeditedListing</th>\n",
       "      <th>PriceIndex4</th>\n",
       "      <th>PriceIndex1</th>\n",
       "      <th>PriceIndex6</th>\n",
       "      <th>PRIMEUNIT</th>\n",
       "      <th>Channel</th>\n",
       "      <th>Zip</th>\n",
       "      <th>InsurancePremiumIndex</th>\n",
       "      <th>PlotType</th>\n",
       "      <th>Architecture</th>\n",
       "      <th>PriceIndex3</th>\n",
       "      <th>Region</th>\n",
       "      <th>PriceIndex5</th>\n",
       "      <th>SubModel</th>\n",
       "      <th>Facade</th>\n",
       "      <th>State</th>\n",
       "      <th>NormalisedPopulation</th>\n",
       "      <th>BuildYear</th>\n",
       "      <th>RegionType</th>\n",
       "      <th>PropertyAge</th>\n",
       "      <th>PriceIndex2</th>\n",
       "    </tr>\n",
       "  </thead>\n",
       "  <tbody>\n",
       "    <tr>\n",
       "      <th>0</th>\n",
       "      <td>0</td>\n",
       "      <td>6LLJ</td>\n",
       "      <td>14674.0</td>\n",
       "      <td>9/7/2010</td>\n",
       "      <td>UT7W</td>\n",
       "      <td>8270</td>\n",
       "      <td>CAT3</td>\n",
       "      <td>B</td>\n",
       "      <td>missing</td>\n",
       "      <td>13143.0</td>\n",
       "      <td>0</td>\n",
       "      <td>14224.0</td>\n",
       "      <td>9217.0</td>\n",
       "      <td>10387.0</td>\n",
       "      <td>missing</td>\n",
       "      <td>Direct</td>\n",
       "      <td>21075</td>\n",
       "      <td>623</td>\n",
       "      <td>WHBI</td>\n",
       "      <td>I3Z9</td>\n",
       "      <td>13108.0</td>\n",
       "      <td>A</td>\n",
       "      <td>9022.0</td>\n",
       "      <td>6E9G</td>\n",
       "      <td>GREEN</td>\n",
       "      <td>MD</td>\n",
       "      <td>42077</td>\n",
       "      <td>2008</td>\n",
       "      <td>A</td>\n",
       "      <td>2</td>\n",
       "      <td>10692.0</td>\n",
       "    </tr>\n",
       "    <tr>\n",
       "      <th>1</th>\n",
       "      <td>1</td>\n",
       "      <td>XZ9F</td>\n",
       "      <td>4172.0</td>\n",
       "      <td>1/7/2009</td>\n",
       "      <td>PRN0</td>\n",
       "      <td>3890</td>\n",
       "      <td>CAT2</td>\n",
       "      <td>B</td>\n",
       "      <td>missing</td>\n",
       "      <td>3461.0</td>\n",
       "      <td>0</td>\n",
       "      <td>4404.0</td>\n",
       "      <td>2958.0</td>\n",
       "      <td>3400.0</td>\n",
       "      <td>missing</td>\n",
       "      <td>Direct</td>\n",
       "      <td>73129</td>\n",
       "      <td>1689</td>\n",
       "      <td>WHBI</td>\n",
       "      <td>AVYP</td>\n",
       "      <td>3695.0</td>\n",
       "      <td>A</td>\n",
       "      <td>2742.0</td>\n",
       "      <td>FIVQ</td>\n",
       "      <td>SILVER</td>\n",
       "      <td>OK</td>\n",
       "      <td>77258</td>\n",
       "      <td>2002</td>\n",
       "      <td>A</td>\n",
       "      <td>7</td>\n",
       "      <td>3615.0</td>\n",
       "    </tr>\n",
       "    <tr>\n",
       "      <th>2</th>\n",
       "      <td>0</td>\n",
       "      <td>QWEV</td>\n",
       "      <td>8210.0</td>\n",
       "      <td>6/23/2010</td>\n",
       "      <td>A9RA</td>\n",
       "      <td>5900</td>\n",
       "      <td>CAT1</td>\n",
       "      <td>B</td>\n",
       "      <td>missing</td>\n",
       "      <td>6922.0</td>\n",
       "      <td>0</td>\n",
       "      <td>8952.0</td>\n",
       "      <td>4568.0</td>\n",
       "      <td>4862.0</td>\n",
       "      <td>missing</td>\n",
       "      <td>Other</td>\n",
       "      <td>29697</td>\n",
       "      <td>2351</td>\n",
       "      <td>W62B</td>\n",
       "      <td>1M5X</td>\n",
       "      <td>7730.0</td>\n",
       "      <td>A</td>\n",
       "      <td>3768.0</td>\n",
       "      <td>4K0H</td>\n",
       "      <td>SILVER</td>\n",
       "      <td>SC</td>\n",
       "      <td>94514</td>\n",
       "      <td>2004</td>\n",
       "      <td>A</td>\n",
       "      <td>6</td>\n",
       "      <td>5805.0</td>\n",
       "    </tr>\n",
       "    <tr>\n",
       "      <th>3</th>\n",
       "      <td>0</td>\n",
       "      <td>MK2K</td>\n",
       "      <td>7309.0</td>\n",
       "      <td>3/19/2009</td>\n",
       "      <td>RRJQ</td>\n",
       "      <td>7460</td>\n",
       "      <td>OTHER</td>\n",
       "      <td>A</td>\n",
       "      <td>missing</td>\n",
       "      <td>6300.0</td>\n",
       "      <td>0</td>\n",
       "      <td>7460.0</td>\n",
       "      <td>5361.0</td>\n",
       "      <td>6305.0</td>\n",
       "      <td>missing</td>\n",
       "      <td>Agent</td>\n",
       "      <td>28273</td>\n",
       "      <td>1933</td>\n",
       "      <td>WLQ6</td>\n",
       "      <td>DKOO</td>\n",
       "      <td>6290.0</td>\n",
       "      <td>A</td>\n",
       "      <td>5370.0</td>\n",
       "      <td>ZLXY</td>\n",
       "      <td>WHITE</td>\n",
       "      <td>NC</td>\n",
       "      <td>82302</td>\n",
       "      <td>2002</td>\n",
       "      <td>C</td>\n",
       "      <td>7</td>\n",
       "      <td>6444.0</td>\n",
       "    </tr>\n",
       "    <tr>\n",
       "      <th>4</th>\n",
       "      <td>0</td>\n",
       "      <td>GK4G</td>\n",
       "      <td>9182.0</td>\n",
       "      <td>3/3/2010</td>\n",
       "      <td>HE5A</td>\n",
       "      <td>6400</td>\n",
       "      <td>OTHER</td>\n",
       "      <td>B</td>\n",
       "      <td>missing</td>\n",
       "      <td>8330.0</td>\n",
       "      <td>0</td>\n",
       "      <td>9846.0</td>\n",
       "      <td>5428.0</td>\n",
       "      <td>5718.0</td>\n",
       "      <td>missing</td>\n",
       "      <td>Other</td>\n",
       "      <td>29697</td>\n",
       "      <td>482</td>\n",
       "      <td>WHBI</td>\n",
       "      <td>KML6</td>\n",
       "      <td>8583.0</td>\n",
       "      <td>A</td>\n",
       "      <td>4803.0</td>\n",
       "      <td>FIVQ</td>\n",
       "      <td>SILVER</td>\n",
       "      <td>SC</td>\n",
       "      <td>49176</td>\n",
       "      <td>2007</td>\n",
       "      <td>B</td>\n",
       "      <td>3</td>\n",
       "      <td>6286.0</td>\n",
       "    </tr>\n",
       "  </tbody>\n",
       "</table>\n",
       "</div>"
      ],
      "text/plain": [
       "   Junk InteriorsStyle PriceIndex8   ListDate Material  PriceIndex9 Agency  \\\n",
       "0     0           6LLJ     14674.0   9/7/2010     UT7W         8270   CAT3   \n",
       "1     1           XZ9F      4172.0   1/7/2009     PRN0         3890   CAT2   \n",
       "2     0           QWEV      8210.0  6/23/2010     A9RA         5900   CAT1   \n",
       "3     0           MK2K      7309.0  3/19/2009     RRJQ         7460  OTHER   \n",
       "4     0           GK4G      9182.0   3/3/2010     HE5A         6400  OTHER   \n",
       "\n",
       "  AreaIncomeType EnvRating PriceIndex7  ExpeditedListing PriceIndex4  \\\n",
       "0              B   missing     13143.0                 0     14224.0   \n",
       "1              B   missing      3461.0                 0      4404.0   \n",
       "2              B   missing      6922.0                 0      8952.0   \n",
       "3              A   missing      6300.0                 0      7460.0   \n",
       "4              B   missing      8330.0                 0      9846.0   \n",
       "\n",
       "  PriceIndex1 PriceIndex6 PRIMEUNIT Channel    Zip  InsurancePremiumIndex  \\\n",
       "0      9217.0     10387.0   missing  Direct  21075                    623   \n",
       "1      2958.0      3400.0   missing  Direct  73129                   1689   \n",
       "2      4568.0      4862.0   missing   Other  29697                   2351   \n",
       "3      5361.0      6305.0   missing   Agent  28273                   1933   \n",
       "4      5428.0      5718.0   missing   Other  29697                    482   \n",
       "\n",
       "  PlotType Architecture PriceIndex3 Region PriceIndex5 SubModel  Facade State  \\\n",
       "0     WHBI         I3Z9     13108.0      A      9022.0     6E9G   GREEN    MD   \n",
       "1     WHBI         AVYP      3695.0      A      2742.0     FIVQ  SILVER    OK   \n",
       "2     W62B         1M5X      7730.0      A      3768.0     4K0H  SILVER    SC   \n",
       "3     WLQ6         DKOO      6290.0      A      5370.0     ZLXY   WHITE    NC   \n",
       "4     WHBI         KML6      8583.0      A      4803.0     FIVQ  SILVER    SC   \n",
       "\n",
       "   NormalisedPopulation  BuildYear RegionType  PropertyAge PriceIndex2  \n",
       "0                 42077       2008          A            2     10692.0  \n",
       "1                 77258       2002          A            7      3615.0  \n",
       "2                 94514       2004          A            6      5805.0  \n",
       "3                 82302       2002          C            7      6444.0  \n",
       "4                 49176       2007          B            3      6286.0  "
      ]
     },
     "execution_count": 8,
     "metadata": {},
     "output_type": "execute_result"
    }
   ],
   "source": [
    "prop_train.head()"
   ]
  },
  {
   "cell_type": "code",
   "execution_count": 9,
   "metadata": {},
   "outputs": [
    {
     "data": {
      "text/plain": [
       "Junk                      int64\n",
       "InteriorsStyle           object\n",
       "PriceIndex8              object\n",
       "ListDate                 object\n",
       "Material                 object\n",
       "PriceIndex9               int64\n",
       "Agency                   object\n",
       "AreaIncomeType           object\n",
       "EnvRating                object\n",
       "PriceIndex7              object\n",
       "ExpeditedListing          int64\n",
       "PriceIndex4              object\n",
       "PriceIndex1              object\n",
       "PriceIndex6              object\n",
       "PRIMEUNIT                object\n",
       "Channel                  object\n",
       "Zip                       int64\n",
       "InsurancePremiumIndex     int64\n",
       "PlotType                 object\n",
       "Architecture             object\n",
       "PriceIndex3              object\n",
       "Region                   object\n",
       "PriceIndex5              object\n",
       "SubModel                 object\n",
       "Facade                   object\n",
       "State                    object\n",
       "NormalisedPopulation      int64\n",
       "BuildYear                 int64\n",
       "RegionType               object\n",
       "PropertyAge               int64\n",
       "PriceIndex2              object\n",
       "dtype: object"
      ]
     },
     "execution_count": 9,
     "metadata": {},
     "output_type": "execute_result"
    }
   ],
   "source": [
    "prop_train.dtypes"
   ]
  },
  {
   "cell_type": "code",
   "execution_count": 10,
   "metadata": {},
   "outputs": [
    {
     "data": {
      "text/plain": [
       "InteriorsStyle           object\n",
       "PriceIndex8              object\n",
       "ListDate                 object\n",
       "Material                 object\n",
       "PriceIndex9               int64\n",
       "Agency                   object\n",
       "AreaIncomeType           object\n",
       "EnvRating                object\n",
       "PriceIndex7              object\n",
       "ExpeditedListing          int64\n",
       "PriceIndex4              object\n",
       "PriceIndex1              object\n",
       "PriceIndex6              object\n",
       "PRIMEUNIT                object\n",
       "Channel                  object\n",
       "Zip                       int64\n",
       "InsurancePremiumIndex     int64\n",
       "PlotType                 object\n",
       "Architecture             object\n",
       "PriceIndex3              object\n",
       "Region                   object\n",
       "PriceIndex5              object\n",
       "SubModel                 object\n",
       "Facade                   object\n",
       "State                    object\n",
       "NormalisedPopulation      int64\n",
       "BuildYear                 int64\n",
       "RegionType               object\n",
       "PropertyAge               int64\n",
       "PriceIndex2              object\n",
       "dtype: object"
      ]
     },
     "execution_count": 10,
     "metadata": {},
     "output_type": "execute_result"
    }
   ],
   "source": [
    "prop_test.dtypes"
   ]
  },
  {
   "cell_type": "code",
   "execution_count": 11,
   "metadata": {},
   "outputs": [
    {
     "data": {
      "text/plain": [
       "Junk                         2\n",
       "InteriorsStyle            1036\n",
       "PriceIndex8              12686\n",
       "ListDate                   516\n",
       "Material                   134\n",
       "PriceIndex9               2019\n",
       "Agency                       5\n",
       "AreaIncomeType               4\n",
       "EnvRating                    3\n",
       "PriceIndex7              12078\n",
       "ExpeditedListing             2\n",
       "PriceIndex4              13006\n",
       "PriceIndex1              10053\n",
       "PriceIndex6              10863\n",
       "PRIMEUNIT                    3\n",
       "Channel                      3\n",
       "Zip                        152\n",
       "InsurancePremiumIndex      277\n",
       "PlotType                    13\n",
       "Architecture                33\n",
       "PriceIndex3              12309\n",
       "Region                       3\n",
       "PriceIndex5              10011\n",
       "SubModel                   831\n",
       "Facade                      17\n",
       "State                       37\n",
       "NormalisedPopulation     36675\n",
       "BuildYear                   10\n",
       "RegionType                   5\n",
       "PropertyAge                 10\n",
       "PriceIndex2              11010\n",
       "dtype: int64"
      ]
     },
     "execution_count": 11,
     "metadata": {},
     "output_type": "execute_result"
    }
   ],
   "source": [
    "prop_train.nunique()"
   ]
  },
  {
   "cell_type": "code",
   "execution_count": 12,
   "metadata": {},
   "outputs": [],
   "source": [
    "#prop_train.isnull().sum() #no nul values"
   ]
  },
  {
   "cell_type": "code",
   "execution_count": 13,
   "metadata": {},
   "outputs": [
    {
     "data": {
      "text/plain": [
       "K3BB    2012\n",
       "RCQE    1713\n",
       "WEGU    1229\n",
       "2XWO    1156\n",
       "V3Y1    1101\n",
       "        ... \n",
       "W0PM       1\n",
       "9WQQ       1\n",
       "B76T       1\n",
       "MDZ7       1\n",
       "O9WT       1\n",
       "Name: InteriorsStyle, Length: 1036, dtype: int64"
      ]
     },
     "execution_count": 13,
     "metadata": {},
     "output_type": "execute_result"
    }
   ],
   "source": [
    "prop_train.InteriorsStyle.value_counts()"
   ]
  },
  {
   "cell_type": "code",
   "execution_count": 14,
   "metadata": {},
   "outputs": [
    {
     "data": {
      "text/plain": [
       "0.0    347\n",
       "0.1    270\n",
       "0.2    188\n",
       "0.3     80\n",
       "1.0     54\n",
       "0.5     46\n",
       "0.4     31\n",
       "0.7     10\n",
       "0.6      8\n",
       "0.8      2\n",
       "Name: Junk, dtype: int64"
      ]
     },
     "execution_count": 14,
     "metadata": {},
     "output_type": "execute_result"
    }
   ],
   "source": [
    "round(prop_train.groupby(\"InteriorsStyle\")[\"Junk\"].mean(),1).value_counts()"
   ]
  },
  {
   "cell_type": "code",
   "execution_count": 15,
   "metadata": {},
   "outputs": [
    {
     "data": {
      "text/plain": [
       "0        8270\n",
       "1        3890\n",
       "2        5900\n",
       "3        7460\n",
       "4        6400\n",
       "         ... \n",
       "62030    8745\n",
       "62031    5360\n",
       "62032    6670\n",
       "62033    6600\n",
       "62034    8700\n",
       "Name: PriceIndex9, Length: 62035, dtype: int64"
      ]
     },
     "execution_count": 15,
     "metadata": {},
     "output_type": "execute_result"
    }
   ],
   "source": [
    "prop_train[\"PriceIndex9\"]"
   ]
  },
  {
   "cell_type": "code",
   "execution_count": 16,
   "metadata": {},
   "outputs": [],
   "source": [
    "for col in [\"PriceIndex1\",\"PriceIndex2\",\"PriceIndex3\",\"PriceIndex4\",\"PriceIndex5\",\"PriceIndex6\",\"PriceIndex7\",\"PriceIndex8\",\"PriceIndex9\"]:\n",
    "    prop_train[col]=pd.to_numeric(prop_train[col],errors='coerce')\n",
    "    prop_test[col]=pd.to_numeric(prop_train[col],errors='coerce')"
   ]
  },
  {
   "cell_type": "code",
   "execution_count": 17,
   "metadata": {},
   "outputs": [
    {
     "data": {
      "text/plain": [
       "dtype('float64')"
      ]
     },
     "execution_count": 17,
     "metadata": {},
     "output_type": "execute_result"
    }
   ],
   "source": [
    "prop_test[\"PriceIndex4\"].dtype"
   ]
  },
  {
   "cell_type": "code",
   "execution_count": 18,
   "metadata": {},
   "outputs": [
    {
     "data": {
      "text/plain": [
       "6066959.202013279"
      ]
     },
     "execution_count": 18,
     "metadata": {},
     "output_type": "execute_result"
    }
   ],
   "source": [
    "prop_train[\"PriceIndex1\"].var(axis=0)"
   ]
  },
  {
   "cell_type": "code",
   "execution_count": 19,
   "metadata": {},
   "outputs": [
    {
     "data": {
      "text/plain": [
       "dtype('float64')"
      ]
     },
     "execution_count": 19,
     "metadata": {},
     "output_type": "execute_result"
    }
   ],
   "source": [
    "prop_train[\"PriceIndex4\"].dtype"
   ]
  },
  {
   "cell_type": "code",
   "execution_count": 20,
   "metadata": {},
   "outputs": [
    {
     "data": {
      "text/plain": [
       "1/10/2010       1\n",
       "12/24/2010      1\n",
       "5/25/2009       2\n",
       "1/9/2009        2\n",
       "2/20/2010       2\n",
       "             ... \n",
       "10/13/2010    311\n",
       "12/8/2010     312\n",
       "11/3/2010     315\n",
       "2/25/2009     325\n",
       "11/23/2010    329\n",
       "Name: ListDate, Length: 516, dtype: int64"
      ]
     },
     "execution_count": 20,
     "metadata": {},
     "output_type": "execute_result"
    }
   ],
   "source": [
    "prop_train[\"ListDate\"].value_counts().sort_values()#drop\n",
    "#prop_train[\"BuildYear\"] #drop\n",
    "#convert in datetime format\n",
    "#pd.to_datetime(prop_train[\"ListDate\"],infer_datetime_format=True)"
   ]
  },
  {
   "cell_type": "code",
   "execution_count": 21,
   "metadata": {},
   "outputs": [
    {
     "data": {
      "text/plain": [
       "PRN0    11909\n",
       "C8A4     8657\n",
       "ZCI3     7938\n",
       "NYFD     3228\n",
       "X7IX     2988\n",
       "        ...  \n",
       "8ZEX        1\n",
       "JXAI        1\n",
       "5NLN        1\n",
       "0EFS        1\n",
       "HTTM        1\n",
       "Name: Material, Length: 134, dtype: int64"
      ]
     },
     "execution_count": 21,
     "metadata": {},
     "output_type": "execute_result"
    }
   ],
   "source": [
    "\n",
    "prop_train[\"Material\"].value_counts()"
   ]
  },
  {
   "cell_type": "code",
   "execution_count": 22,
   "metadata": {},
   "outputs": [
    {
     "data": {
      "text/plain": [
       "0.1    50\n",
       "0.2    33\n",
       "0.0    17\n",
       "0.3    14\n",
       "0.4     7\n",
       "0.5     6\n",
       "1.0     5\n",
       "0.7     2\n",
       "Name: Junk, dtype: int64"
      ]
     },
     "execution_count": 22,
     "metadata": {},
     "output_type": "execute_result"
    }
   ],
   "source": [
    "round(prop_train.groupby(\"Material\")[\"Junk\"].mean(),1).value_counts()"
   ]
  },
  {
   "cell_type": "code",
   "execution_count": 23,
   "metadata": {},
   "outputs": [
    {
     "data": {
      "text/plain": [
       "CAT1       21545\n",
       "CAT2       19862\n",
       "CAT3       10455\n",
       "OTHER      10168\n",
       "missing        5\n",
       "Name: Agency, dtype: int64"
      ]
     },
     "execution_count": 23,
     "metadata": {},
     "output_type": "execute_result"
    }
   ],
   "source": [
    "prop_train[\"Agency\"].value_counts() #ohe"
   ]
  },
  {
   "cell_type": "code",
   "execution_count": 24,
   "metadata": {},
   "outputs": [
    {
     "data": {
      "text/plain": [
       "AreaIncomeType  Agency \n",
       "A               CAT1       10275\n",
       "                CAT2        8318\n",
       "                CAT3        7524\n",
       "                OTHER       4447\n",
       "                missing        1\n",
       "B               CAT2       10499\n",
       "                CAT1       10177\n",
       "                OTHER       5101\n",
       "                CAT3        2369\n",
       "                missing        4\n",
       "C               CAT2         222\n",
       "                CAT1         207\n",
       "                OTHER        116\n",
       "                CAT3          99\n",
       "missing         CAT1         886\n",
       "                CAT2         823\n",
       "                OTHER        504\n",
       "                CAT3         463\n",
       "Name: Agency, dtype: int64"
      ]
     },
     "execution_count": 24,
     "metadata": {},
     "output_type": "execute_result"
    }
   ],
   "source": [
    "prop_train.groupby(\"AreaIncomeType\")[\"Agency\"].value_counts()"
   ]
  },
  {
   "cell_type": "code",
   "execution_count": 25,
   "metadata": {},
   "outputs": [
    {
     "data": {
      "text/plain": [
       "State\n",
       "AL    4.0\n",
       "AR    6.0\n",
       "AZ    4.0\n",
       "CA    4.0\n",
       "CO    4.0\n",
       "FL    4.0\n",
       "GA    4.0\n",
       "IA    4.0\n",
       "ID    4.0\n",
       "IL    4.0\n",
       "IN    4.0\n",
       "KY    3.0\n",
       "LA    4.0\n",
       "MA    5.5\n",
       "MD    4.0\n",
       "MI    3.0\n",
       "MN    3.0\n",
       "MO    4.0\n",
       "MS    3.0\n",
       "NC    4.0\n",
       "NE    3.0\n",
       "NH    2.0\n",
       "NJ    4.0\n",
       "NM    4.0\n",
       "NV    5.0\n",
       "NY    2.0\n",
       "OH    4.0\n",
       "OK    2.0\n",
       "OR    4.0\n",
       "PA    4.0\n",
       "SC    4.0\n",
       "TN    4.0\n",
       "TX    4.0\n",
       "UT    4.0\n",
       "VA    4.0\n",
       "WA    4.0\n",
       "WV    4.0\n",
       "Name: PropertyAge, dtype: float64"
      ]
     },
     "execution_count": 25,
     "metadata": {},
     "output_type": "execute_result"
    }
   ],
   "source": [
    "prop_train.groupby(\"State\")[\"PropertyAge\"].median()"
   ]
  },
  {
   "cell_type": "code",
   "execution_count": 26,
   "metadata": {},
   "outputs": [
    {
     "data": {
      "text/plain": [
       "Architecture\n",
       "1IKD    68775.892857\n",
       "1M5X    72221.715692\n",
       "2MTV    70809.000000\n",
       "4GZ4    62044.012888\n",
       "5A9R    79089.904159\n",
       "5NBT    70090.002232\n",
       "7IYX    70652.286566\n",
       "8SPA    67407.704198\n",
       "AVYP    66724.613284\n",
       "AZHP    75185.157895\n",
       "BOLF    81512.480000\n",
       "CR4E    74370.153846\n",
       "DKOO    77797.056206\n",
       "FCXM    68301.401709\n",
       "GHDG    77804.217391\n",
       "I3Z9    76746.375209\n",
       "K92H    75789.234443\n",
       "KML6    55424.597701\n",
       "M3C0    74608.029289\n",
       "O8PU    67564.310345\n",
       "OJBM    86440.000000\n",
       "OYQM    58700.000000\n",
       "PQP2    75778.238095\n",
       "R0QP    74993.411765\n",
       "RIAX    74426.620238\n",
       "RZOR    76903.158585\n",
       "STJH    76718.544304\n",
       "TP7R    68255.448894\n",
       "W86R    77180.753086\n",
       "WWBR    71941.549020\n",
       "X120    76430.395387\n",
       "XDZM    71321.257143\n",
       "YIK5    73381.304042\n",
       "Name: NormalisedPopulation, dtype: float64"
      ]
     },
     "execution_count": 26,
     "metadata": {},
     "output_type": "execute_result"
    }
   ],
   "source": [
    "prop_train.groupby(\"Architecture\")[\"NormalisedPopulation\"].mean()"
   ]
  },
  {
   "cell_type": "code",
   "execution_count": 27,
   "metadata": {},
   "outputs": [
    {
     "data": {
      "text/plain": [
       "41062.0"
      ]
     },
     "execution_count": 27,
     "metadata": {},
     "output_type": "execute_result"
    }
   ],
   "source": [
    "prop_train[\"PriceIndex8\"].max()"
   ]
  },
  {
   "cell_type": "code",
   "execution_count": 28,
   "metadata": {},
   "outputs": [
    {
     "data": {
      "text/plain": [
       "0.0"
      ]
     },
     "execution_count": 28,
     "metadata": {},
     "output_type": "execute_result"
    }
   ],
   "source": [
    "prop_train[\"PriceIndex8\"].min()"
   ]
  },
  {
   "cell_type": "code",
   "execution_count": 29,
   "metadata": {},
   "outputs": [
    {
     "data": {
      "text/plain": [
       "A          30565\n",
       "B          28150\n",
       "missing     2676\n",
       "C            644\n",
       "Name: AreaIncomeType, dtype: int64"
      ]
     },
     "execution_count": 29,
     "metadata": {},
     "output_type": "execute_result"
    }
   ],
   "source": [
    "prop_train[\"AreaIncomeType\"].value_counts() #ohe"
   ]
  },
  {
   "cell_type": "code",
   "execution_count": 30,
   "metadata": {},
   "outputs": [
    {
     "data": {
      "text/plain": [
       "missing    59092\n",
       "GREEN       2875\n",
       "RED           68\n",
       "Name: EnvRating, dtype: int64"
      ]
     },
     "execution_count": 30,
     "metadata": {},
     "output_type": "execute_result"
    }
   ],
   "source": [
    "prop_train[\"EnvRating\"].value_counts() #ohe"
   ]
  },
  {
   "cell_type": "code",
   "execution_count": 31,
   "metadata": {},
   "outputs": [
    {
     "data": {
      "text/plain": [
       "0    60504\n",
       "1     1531\n",
       "Name: ExpeditedListing, dtype: int64"
      ]
     },
     "execution_count": 31,
     "metadata": {},
     "output_type": "execute_result"
    }
   ],
   "source": [
    "prop_train[\"ExpeditedListing\"].value_counts()"
   ]
  },
  {
   "cell_type": "code",
   "execution_count": 32,
   "metadata": {},
   "outputs": [
    {
     "data": {
      "text/plain": [
       "missing    59092\n",
       "NO          2886\n",
       "YES           57\n",
       "Name: PRIMEUNIT, dtype: int64"
      ]
     },
     "execution_count": 32,
     "metadata": {},
     "output_type": "execute_result"
    }
   ],
   "source": [
    "prop_train[\"PRIMEUNIT\"].value_counts() #ohe"
   ]
  },
  {
   "cell_type": "code",
   "execution_count": 33,
   "metadata": {},
   "outputs": [
    {
     "data": {
      "text/plain": [
       "Direct    34816\n",
       "Other     14951\n",
       "Agent     12268\n",
       "Name: Channel, dtype: int64"
      ]
     },
     "execution_count": 33,
     "metadata": {},
     "output_type": "execute_result"
    }
   ],
   "source": [
    "prop_train[\"Channel\"].value_counts() #ohe"
   ]
  },
  {
   "cell_type": "code",
   "execution_count": 34,
   "metadata": {},
   "outputs": [
    {
     "data": {
      "text/plain": [
       "WHBI    26204\n",
       "W62B     7572\n",
       "32T2     6839\n",
       "DIJX     6113\n",
       "WLQ6     4978\n",
       "DSSM     2705\n",
       "DJOP     1903\n",
       "7RBQ     1648\n",
       "I00H     1463\n",
       "V5R0     1230\n",
       "8FRL      723\n",
       "LIGY      652\n",
       "T559        5\n",
       "Name: PlotType, dtype: int64"
      ]
     },
     "execution_count": 34,
     "metadata": {},
     "output_type": "execute_result"
    }
   ],
   "source": [
    "prop_train[\"PlotType\"].value_counts()"
   ]
  },
  {
   "cell_type": "code",
   "execution_count": 35,
   "metadata": {},
   "outputs": [
    {
     "data": {
      "text/plain": [
       "PlotType\n",
       "32T2    0.15\n",
       "7RBQ    0.09\n",
       "8FRL    0.15\n",
       "DIJX    0.16\n",
       "DJOP    0.14\n",
       "DSSM    0.12\n",
       "I00H    0.11\n",
       "LIGY    0.18\n",
       "T559    0.00\n",
       "V5R0    0.16\n",
       "W62B    0.09\n",
       "WHBI    0.11\n",
       "WLQ6    0.13\n",
       "Name: Junk, dtype: float64"
      ]
     },
     "execution_count": 35,
     "metadata": {},
     "output_type": "execute_result"
    }
   ],
   "source": [
    "round(prop_train.groupby(\"PlotType\")[\"Junk\"].mean(),2)"
   ]
  },
  {
   "cell_type": "code",
   "execution_count": 36,
   "metadata": {},
   "outputs": [
    {
     "data": {
      "text/plain": [
       "0.12    6\n",
       "0.15    4\n",
       "0.10    3\n",
       "0.17    3\n",
       "0.00    3\n",
       "0.16    2\n",
       "0.34    2\n",
       "0.14    2\n",
       "0.33    2\n",
       "0.06    1\n",
       "0.28    1\n",
       "0.13    1\n",
       "0.08    1\n",
       "0.21    1\n",
       "0.50    1\n",
       "Name: Junk, dtype: int64"
      ]
     },
     "execution_count": 36,
     "metadata": {},
     "output_type": "execute_result"
    }
   ],
   "source": [
    "prop_train[\"Architecture\"].value_counts()\n",
    "round(prop_train.groupby(\"Architecture\")[\"Junk\"].mean(),2).value_counts()"
   ]
  },
  {
   "cell_type": "code",
   "execution_count": 37,
   "metadata": {},
   "outputs": [
    {
     "data": {
      "text/plain": [
       "A          59869\n",
       "B           2160\n",
       "missing        6\n",
       "Name: Region, dtype: int64"
      ]
     },
     "execution_count": 37,
     "metadata": {},
     "output_type": "execute_result"
    }
   ],
   "source": [
    "prop_train[\"Region\"].value_counts() #ohe"
   ]
  },
  {
   "cell_type": "code",
   "execution_count": 38,
   "metadata": {},
   "outputs": [
    {
     "data": {
      "text/plain": [
       "0.0    321\n",
       "0.1    184\n",
       "0.2    151\n",
       "0.3     57\n",
       "1.0     43\n",
       "0.5     42\n",
       "0.4     19\n",
       "0.6      5\n",
       "0.7      5\n",
       "0.8      4\n",
       "Name: Junk, dtype: int64"
      ]
     },
     "execution_count": 38,
     "metadata": {},
     "output_type": "execute_result"
    }
   ],
   "source": [
    "prop_train[\"SubModel\"].value_counts()\n",
    "round(prop_train.groupby(\"SubModel\")[\"Junk\"].mean(),1).value_counts()"
   ]
  },
  {
   "cell_type": "code",
   "execution_count": 39,
   "metadata": {},
   "outputs": [
    {
     "data": {
      "text/plain": [
       "0.13    6\n",
       "0.12    4\n",
       "0.11    2\n",
       "0.14    1\n",
       "0.08    1\n",
       "0.15    1\n",
       "0.00    1\n",
       "0.25    1\n",
       "Name: Junk, dtype: int64"
      ]
     },
     "execution_count": 39,
     "metadata": {},
     "output_type": "execute_result"
    }
   ],
   "source": [
    "prop_train[\"Facade\"].value_counts()\n",
    "round(prop_train.groupby(\"Facade\")[\"Junk\"].mean(),2).value_counts()"
   ]
  },
  {
   "cell_type": "code",
   "execution_count": 40,
   "metadata": {},
   "outputs": [
    {
     "data": {
      "text/plain": [
       "0.14    7\n",
       "0.11    6\n",
       "0.09    4\n",
       "0.12    4\n",
       "0.06    3\n",
       "0.15    3\n",
       "0.10    3\n",
       "0.18    1\n",
       "0.05    1\n",
       "0.24    1\n",
       "0.13    1\n",
       "0.04    1\n",
       "0.08    1\n",
       "0.00    1\n",
       "Name: Junk, dtype: int64"
      ]
     },
     "execution_count": 40,
     "metadata": {},
     "output_type": "execute_result"
    }
   ],
   "source": [
    "prop_train[\"State\"].value_counts()\n",
    "round(prop_train.groupby(\"State\")[\"Junk\"].mean(),2).value_counts()"
   ]
  },
  {
   "cell_type": "code",
   "execution_count": 41,
   "metadata": {},
   "outputs": [
    {
     "data": {
      "text/plain": [
       "A          51862\n",
       "B           6861\n",
       "C           3135\n",
       "OTHER        172\n",
       "missing        5\n",
       "Name: RegionType, dtype: int64"
      ]
     },
     "execution_count": 41,
     "metadata": {},
     "output_type": "execute_result"
    }
   ],
   "source": [
    "prop_train[\"RegionType\"].value_counts() #ohe"
   ]
  },
  {
   "cell_type": "code",
   "execution_count": 42,
   "metadata": {},
   "outputs": [],
   "source": [
    "def mapping_func_1(df,x,y,prefix='prop_'):\n",
    "    probs=round(df.groupby(x)[y].mean(),1).to_dict()\n",
    "    mapping_dict=dict()\n",
    "    for k,v in probs.items():\n",
    "        mapping_dict[k]=prefix+str(v).replace(\".\",\"\")\n",
    "    return mapping_dict    "
   ]
  },
  {
   "cell_type": "code",
   "execution_count": 43,
   "metadata": {},
   "outputs": [],
   "source": [
    "prop_train=prop_train.assign( \n",
    " InteriorsStyle=prop_train[\"InteriorsStyle\"].map(mapping_func_1(prop_train,\"InteriorsStyle\",\"Junk\",\"IntSt_\")),\n",
    " Material=prop_train[\"Material\"].map(mapping_func_1(prop_train,\"Material\",\"Junk\",\"mat_\")),\n",
    " SubModel=prop_train[\"SubModel\"].map(mapping_func_1(prop_train,\"SubModel\",\"Junk\",\"SubM_\")))\n"
   ]
  },
  {
   "cell_type": "code",
   "execution_count": 44,
   "metadata": {},
   "outputs": [],
   "source": [
    "def mapping_func_2(df,x,y,prefix='prop_'):\n",
    "    probs=round(df.groupby(x)[y].mean(),2).to_dict()\n",
    "    mapping_dict=dict()\n",
    "    for k,v in probs.items():\n",
    "        mapping_dict[k]=prefix+str(v).replace(\".\",\"\")\n",
    "    return mapping_dict    "
   ]
  },
  {
   "cell_type": "code",
   "execution_count": 45,
   "metadata": {},
   "outputs": [],
   "source": [
    "prop_train=prop_train.assign(\n",
    " PlotType=prop_train[\"PlotType\"].map(mapping_func_2(prop_train,\"PlotType\",\"Junk\",\"PlotT_\")),\n",
    " Architecture=prop_train[\"Architecture\"].map(mapping_func_2(prop_train,\"Architecture\",\"Junk\",\"Arch_\")),\n",
    " Facade=prop_train[\"Facade\"].map(mapping_func_2(prop_train,\"Facade\",\"Junk\",\"Fac_\")),\n",
    " State=prop_train[\"State\"].map(mapping_func_2(prop_train,\"State\",\"Junk\",\"State_\")))"
   ]
  },
  {
   "cell_type": "code",
   "execution_count": 46,
   "metadata": {},
   "outputs": [
    {
     "data": {
      "text/plain": [
       "Junk                         2\n",
       "InteriorsStyle              10\n",
       "PriceIndex8              12685\n",
       "ListDate                   516\n",
       "Material                     8\n",
       "PriceIndex9               2019\n",
       "Agency                       5\n",
       "AreaIncomeType               4\n",
       "EnvRating                    3\n",
       "PriceIndex7              12077\n",
       "ExpeditedListing             2\n",
       "PriceIndex4              13005\n",
       "PriceIndex1              10052\n",
       "PriceIndex6              10862\n",
       "PRIMEUNIT                    3\n",
       "Channel                      3\n",
       "Zip                        152\n",
       "InsurancePremiumIndex      277\n",
       "PlotType                     9\n",
       "Architecture                15\n",
       "PriceIndex3              12308\n",
       "Region                       3\n",
       "PriceIndex5              10010\n",
       "SubModel                    10\n",
       "Facade                       8\n",
       "State                       14\n",
       "NormalisedPopulation     36675\n",
       "BuildYear                   10\n",
       "RegionType                   5\n",
       "PropertyAge                 10\n",
       "PriceIndex2              11009\n",
       "dtype: int64"
      ]
     },
     "execution_count": 46,
     "metadata": {},
     "output_type": "execute_result"
    }
   ],
   "source": [
    "prop_train.nunique()"
   ]
  },
  {
   "cell_type": "code",
   "execution_count": 47,
   "metadata": {},
   "outputs": [
    {
     "data": {
      "text/plain": [
       "Junk                       int64\n",
       "InteriorsStyle            object\n",
       "PriceIndex8              float64\n",
       "ListDate                  object\n",
       "Material                  object\n",
       "PriceIndex9                int64\n",
       "Agency                    object\n",
       "AreaIncomeType            object\n",
       "EnvRating                 object\n",
       "PriceIndex7              float64\n",
       "ExpeditedListing           int64\n",
       "PriceIndex4              float64\n",
       "PriceIndex1              float64\n",
       "PriceIndex6              float64\n",
       "PRIMEUNIT                 object\n",
       "Channel                   object\n",
       "Zip                        int64\n",
       "InsurancePremiumIndex      int64\n",
       "PlotType                  object\n",
       "Architecture              object\n",
       "PriceIndex3              float64\n",
       "Region                    object\n",
       "PriceIndex5              float64\n",
       "SubModel                  object\n",
       "Facade                    object\n",
       "State                     object\n",
       "NormalisedPopulation       int64\n",
       "BuildYear                  int64\n",
       "RegionType                object\n",
       "PropertyAge                int64\n",
       "PriceIndex2              float64\n",
       "dtype: object"
      ]
     },
     "execution_count": 47,
     "metadata": {},
     "output_type": "execute_result"
    }
   ],
   "source": [
    "prop_train.dtypes"
   ]
  },
  {
   "cell_type": "code",
   "execution_count": 48,
   "metadata": {},
   "outputs": [],
   "source": [
    "x_train,x_test=train_test_split(prop_train,test_size=.2,random_state=1)"
   ]
  },
  {
   "cell_type": "code",
   "execution_count": 49,
   "metadata": {},
   "outputs": [
    {
     "data": {
      "text/plain": [
       "((49628, 31), (12407, 31))"
      ]
     },
     "execution_count": 49,
     "metadata": {},
     "output_type": "execute_result"
    }
   ],
   "source": [
    "x_train.shape,x_test.shape"
   ]
  },
  {
   "cell_type": "code",
   "execution_count": 50,
   "metadata": {},
   "outputs": [],
   "source": [
    "x_train1=x_train.drop([\"Junk\",\"BuildYear\",\"ListDate\"],1)\n",
    "y_train1=x_train[\"Junk\"]\n",
    "x_test1=x_test.drop([\"Junk\",\"BuildYear\",\"ListDate\"],1)\n",
    "y_test1=x_test[\"Junk\"]"
   ]
  },
  {
   "cell_type": "code",
   "execution_count": 51,
   "metadata": {},
   "outputs": [
    {
     "data": {
      "text/plain": [
       "((49628, 28), (49628,), (12407, 28), (12407,))"
      ]
     },
     "execution_count": 51,
     "metadata": {},
     "output_type": "execute_result"
    }
   ],
   "source": [
    "x_train1.shape,y_train1.shape,x_test1.shape,y_test1.shape"
   ]
  },
  {
   "cell_type": "code",
   "execution_count": 52,
   "metadata": {},
   "outputs": [],
   "source": [
    "num_cols=x_train1.select_dtypes(np.number).columns"
   ]
  },
  {
   "cell_type": "code",
   "execution_count": 53,
   "metadata": {},
   "outputs": [
    {
     "data": {
      "text/plain": [
       "Index(['PriceIndex8', 'PriceIndex9', 'PriceIndex7', 'ExpeditedListing',\n",
       "       'PriceIndex4', 'PriceIndex1', 'PriceIndex6', 'Zip',\n",
       "       'InsurancePremiumIndex', 'PriceIndex3', 'PriceIndex5',\n",
       "       'NormalisedPopulation', 'PropertyAge', 'PriceIndex2'],\n",
       "      dtype='object')"
      ]
     },
     "execution_count": 53,
     "metadata": {},
     "output_type": "execute_result"
    }
   ],
   "source": [
    "num_cols"
   ]
  },
  {
   "cell_type": "code",
   "execution_count": 54,
   "metadata": {},
   "outputs": [],
   "source": [
    "cat_cols=x_train1.select_dtypes(object).columns"
   ]
  },
  {
   "cell_type": "code",
   "execution_count": 55,
   "metadata": {},
   "outputs": [
    {
     "data": {
      "text/plain": [
       "Index(['InteriorsStyle', 'Material', 'Agency', 'AreaIncomeType', 'EnvRating',\n",
       "       'PRIMEUNIT', 'Channel', 'PlotType', 'Architecture', 'Region',\n",
       "       'SubModel', 'Facade', 'State', 'RegionType'],\n",
       "      dtype='object')"
      ]
     },
     "execution_count": 55,
     "metadata": {},
     "output_type": "execute_result"
    }
   ],
   "source": [
    "cat_cols"
   ]
  },
  {
   "cell_type": "code",
   "execution_count": 56,
   "metadata": {},
   "outputs": [],
   "source": [
    "pipe_num=make_pipeline(SimpleImputer(strategy=\"median\"),StandardScaler())\n",
    "pipe_cat=make_pipeline(SimpleImputer(strategy=\"constant\",fill_value=\"Missing\"),\n",
    "                      OneHotEncoder(handle_unknown=\"ignore\"))"
   ]
  },
  {
   "cell_type": "code",
   "execution_count": 57,
   "metadata": {},
   "outputs": [],
   "source": [
    "ctrans=make_column_transformer((pipe_num,num_cols),(pipe_cat,cat_cols))"
   ]
  },
  {
   "cell_type": "code",
   "execution_count": 58,
   "metadata": {},
   "outputs": [
    {
     "data": {
      "text/plain": [
       "<49628x114 sparse matrix of type '<class 'numpy.float64'>'\n",
       "\twith 1389584 stored elements in Compressed Sparse Row format>"
      ]
     },
     "execution_count": 58,
     "metadata": {},
     "output_type": "execute_result"
    }
   ],
   "source": [
    "ctrans.fit_transform(x_train1)"
   ]
  },
  {
   "cell_type": "code",
   "execution_count": 448,
   "metadata": {},
   "outputs": [
    {
     "data": {
      "text/plain": [
       "<10948x114 sparse matrix of type '<class 'numpy.float64'>'\n",
       "\twith 229908 stored elements in Compressed Sparse Row format>"
      ]
     },
     "execution_count": 448,
     "metadata": {},
     "output_type": "execute_result"
    }
   ],
   "source": [
    "ctrans.transform(prop_test)"
   ]
  },
  {
   "cell_type": "code",
   "execution_count": null,
   "metadata": {},
   "outputs": [],
   "source": []
  },
  {
   "cell_type": "markdown",
   "metadata": {},
   "source": [
    "## Logistic Regression"
   ]
  },
  {
   "cell_type": "code",
   "execution_count": 511,
   "metadata": {},
   "outputs": [],
   "source": [
    "logreg=LogisticRegression(\n",
    "    solver=\"liblinear\",\n",
    "    penalty=\"l1\",\n",
    "    random_state=2,\n",
    "    max_iter=800,\n",
    "    class_weight=\"balanced\")"
   ]
  },
  {
   "cell_type": "code",
   "execution_count": 512,
   "metadata": {},
   "outputs": [
    {
     "data": {
      "text/plain": [
       "LogisticRegression(C=1.0, class_weight='balanced', dual=False,\n",
       "                   fit_intercept=True, intercept_scaling=1, l1_ratio=None,\n",
       "                   max_iter=800, multi_class='auto', n_jobs=None, penalty='l1',\n",
       "                   random_state=2, solver='liblinear', tol=0.0001, verbose=0,\n",
       "                   warm_start=False)"
      ]
     },
     "execution_count": 512,
     "metadata": {},
     "output_type": "execute_result"
    }
   ],
   "source": [
    "logreg"
   ]
  },
  {
   "cell_type": "code",
   "execution_count": 513,
   "metadata": {},
   "outputs": [],
   "source": [
    "pipe=make_pipeline(ctrans,logreg)"
   ]
  },
  {
   "cell_type": "code",
   "execution_count": 514,
   "metadata": {},
   "outputs": [
    {
     "data": {
      "text/plain": [
       "Pipeline(memory=None,\n",
       "         steps=[('columntransformer',\n",
       "                 ColumnTransformer(n_jobs=None, remainder='drop',\n",
       "                                   sparse_threshold=0.3,\n",
       "                                   transformer_weights=None,\n",
       "                                   transformers=[('pipeline-1',\n",
       "                                                  Pipeline(memory=None,\n",
       "                                                           steps=[('simpleimputer',\n",
       "                                                                   SimpleImputer(add_indicator=False,\n",
       "                                                                                 copy=True,\n",
       "                                                                                 fill_value=None,\n",
       "                                                                                 missing_values=nan,\n",
       "                                                                                 strategy='median',\n",
       "                                                                                 verbose=0)),\n",
       "                                                                  ('standardscaler',\n",
       "                                                                   Standard...\n",
       "       'SubModel', 'Facade', 'State', 'RegionType'],\n",
       "      dtype='object'))],\n",
       "                                   verbose=False)),\n",
       "                ('logisticregression',\n",
       "                 LogisticRegression(C=1.0, class_weight='balanced', dual=False,\n",
       "                                    fit_intercept=True, intercept_scaling=1,\n",
       "                                    l1_ratio=None, max_iter=800,\n",
       "                                    multi_class='auto', n_jobs=None,\n",
       "                                    penalty='l1', random_state=2,\n",
       "                                    solver='liblinear', tol=0.0001, verbose=0,\n",
       "                                    warm_start=False))],\n",
       "         verbose=False)"
      ]
     },
     "execution_count": 514,
     "metadata": {},
     "output_type": "execute_result"
    }
   ],
   "source": [
    "pipe"
   ]
  },
  {
   "cell_type": "code",
   "execution_count": 515,
   "metadata": {},
   "outputs": [
    {
     "data": {
      "text/plain": [
       "Pipeline(memory=None,\n",
       "         steps=[('columntransformer',\n",
       "                 ColumnTransformer(n_jobs=None, remainder='drop',\n",
       "                                   sparse_threshold=0.3,\n",
       "                                   transformer_weights=None,\n",
       "                                   transformers=[('pipeline-1',\n",
       "                                                  Pipeline(memory=None,\n",
       "                                                           steps=[('simpleimputer',\n",
       "                                                                   SimpleImputer(add_indicator=False,\n",
       "                                                                                 copy=True,\n",
       "                                                                                 fill_value=None,\n",
       "                                                                                 missing_values=nan,\n",
       "                                                                                 strategy='median',\n",
       "                                                                                 verbose=0)),\n",
       "                                                                  ('standardscaler',\n",
       "                                                                   Standard...\n",
       "       'SubModel', 'Facade', 'State', 'RegionType'],\n",
       "      dtype='object'))],\n",
       "                                   verbose=False)),\n",
       "                ('logisticregression',\n",
       "                 LogisticRegression(C=1.0, class_weight='balanced', dual=False,\n",
       "                                    fit_intercept=True, intercept_scaling=1,\n",
       "                                    l1_ratio=None, max_iter=800,\n",
       "                                    multi_class='auto', n_jobs=None,\n",
       "                                    penalty='l1', random_state=2,\n",
       "                                    solver='liblinear', tol=0.0001, verbose=0,\n",
       "                                    warm_start=False))],\n",
       "         verbose=False)"
      ]
     },
     "execution_count": 515,
     "metadata": {},
     "output_type": "execute_result"
    }
   ],
   "source": [
    "pipe.fit(x_train1,y_train1)"
   ]
  },
  {
   "cell_type": "code",
   "execution_count": 516,
   "metadata": {},
   "outputs": [
    {
     "data": {
      "text/plain": [
       "array([0, 0, 1, ..., 0, 0, 0], dtype=int64)"
      ]
     },
     "execution_count": 516,
     "metadata": {},
     "output_type": "execute_result"
    }
   ],
   "source": [
    "pipe.predict(x_test1)"
   ]
  },
  {
   "cell_type": "code",
   "execution_count": 517,
   "metadata": {},
   "outputs": [
    {
     "data": {
      "text/plain": [
       "array([1, 0, 1, ..., 0, 0, 0], dtype=int64)"
      ]
     },
     "execution_count": 517,
     "metadata": {},
     "output_type": "execute_result"
    }
   ],
   "source": [
    "pipe.predict(x_train1)"
   ]
  },
  {
   "cell_type": "code",
   "execution_count": 518,
   "metadata": {},
   "outputs": [
    {
     "data": {
      "text/plain": [
       "0.7902405671775095"
      ]
     },
     "execution_count": 518,
     "metadata": {},
     "output_type": "execute_result"
    }
   ],
   "source": [
    "roc_auc_score(y_train1,pipe.predict_proba(x_train1)[:,1])"
   ]
  },
  {
   "cell_type": "code",
   "execution_count": 519,
   "metadata": {},
   "outputs": [
    {
     "data": {
      "text/plain": [
       "0.7834626789942428"
      ]
     },
     "execution_count": 519,
     "metadata": {},
     "output_type": "execute_result"
    }
   ],
   "source": [
    "roc_auc_score(y_test1,pipe.predict_proba(x_test1)[:,1])"
   ]
  },
  {
   "cell_type": "code",
   "execution_count": 520,
   "metadata": {},
   "outputs": [],
   "source": [
    "final_pred=pipe.predict(prop_test)"
   ]
  },
  {
   "cell_type": "code",
   "execution_count": 521,
   "metadata": {},
   "outputs": [
    {
     "data": {
      "text/plain": [
       "array([1, 1, 1, ..., 1, 1, 1], dtype=int64)"
      ]
     },
     "execution_count": 521,
     "metadata": {},
     "output_type": "execute_result"
    }
   ],
   "source": [
    "final_pred"
   ]
  },
  {
   "cell_type": "code",
   "execution_count": 522,
   "metadata": {},
   "outputs": [],
   "source": [
    "submission=pd.DataFrame(data=final_pred)"
   ]
  },
  {
   "cell_type": "code",
   "execution_count": 525,
   "metadata": {},
   "outputs": [
    {
     "data": {
      "text/plain": [
       "1    10610\n",
       "0      338\n",
       "Name: 0, dtype: int64"
      ]
     },
     "execution_count": 525,
     "metadata": {},
     "output_type": "execute_result"
    }
   ],
   "source": [
    "submission[0].value_counts()"
   ]
  },
  {
   "cell_type": "code",
   "execution_count": 526,
   "metadata": {},
   "outputs": [],
   "source": [
    "submission=submission.rename({0:'Junk'},axis=1)"
   ]
  },
  {
   "cell_type": "code",
   "execution_count": 527,
   "metadata": {},
   "outputs": [
    {
     "data": {
      "text/html": [
       "<div>\n",
       "<style scoped>\n",
       "    .dataframe tbody tr th:only-of-type {\n",
       "        vertical-align: middle;\n",
       "    }\n",
       "\n",
       "    .dataframe tbody tr th {\n",
       "        vertical-align: top;\n",
       "    }\n",
       "\n",
       "    .dataframe thead th {\n",
       "        text-align: right;\n",
       "    }\n",
       "</style>\n",
       "<table border=\"1\" class=\"dataframe\">\n",
       "  <thead>\n",
       "    <tr style=\"text-align: right;\">\n",
       "      <th></th>\n",
       "      <th>Junk</th>\n",
       "    </tr>\n",
       "  </thead>\n",
       "  <tbody>\n",
       "    <tr>\n",
       "      <th>0</th>\n",
       "      <td>1</td>\n",
       "    </tr>\n",
       "    <tr>\n",
       "      <th>1</th>\n",
       "      <td>1</td>\n",
       "    </tr>\n",
       "    <tr>\n",
       "      <th>2</th>\n",
       "      <td>1</td>\n",
       "    </tr>\n",
       "    <tr>\n",
       "      <th>3</th>\n",
       "      <td>1</td>\n",
       "    </tr>\n",
       "    <tr>\n",
       "      <th>4</th>\n",
       "      <td>1</td>\n",
       "    </tr>\n",
       "    <tr>\n",
       "      <th>...</th>\n",
       "      <td>...</td>\n",
       "    </tr>\n",
       "    <tr>\n",
       "      <th>10943</th>\n",
       "      <td>1</td>\n",
       "    </tr>\n",
       "    <tr>\n",
       "      <th>10944</th>\n",
       "      <td>1</td>\n",
       "    </tr>\n",
       "    <tr>\n",
       "      <th>10945</th>\n",
       "      <td>1</td>\n",
       "    </tr>\n",
       "    <tr>\n",
       "      <th>10946</th>\n",
       "      <td>1</td>\n",
       "    </tr>\n",
       "    <tr>\n",
       "      <th>10947</th>\n",
       "      <td>1</td>\n",
       "    </tr>\n",
       "  </tbody>\n",
       "</table>\n",
       "<p>10948 rows × 1 columns</p>\n",
       "</div>"
      ],
      "text/plain": [
       "       Junk\n",
       "0         1\n",
       "1         1\n",
       "2         1\n",
       "3         1\n",
       "4         1\n",
       "...     ...\n",
       "10943     1\n",
       "10944     1\n",
       "10945     1\n",
       "10946     1\n",
       "10947     1\n",
       "\n",
       "[10948 rows x 1 columns]"
      ]
     },
     "execution_count": 527,
     "metadata": {},
     "output_type": "execute_result"
    }
   ],
   "source": [
    "submission"
   ]
  },
  {
   "cell_type": "code",
   "execution_count": 528,
   "metadata": {},
   "outputs": [],
   "source": [
    "submission=submission.to_csv(\"Priyanshi_Project_5.csv\",index=False)"
   ]
  },
  {
   "cell_type": "code",
   "execution_count": null,
   "metadata": {},
   "outputs": [],
   "source": []
  },
  {
   "cell_type": "markdown",
   "metadata": {},
   "source": []
  },
  {
   "cell_type": "markdown",
   "metadata": {},
   "source": [
    "## GridSearchCV"
   ]
  },
  {
   "cell_type": "code",
   "execution_count": 529,
   "metadata": {},
   "outputs": [
    {
     "data": {
      "text/plain": [
       "<49628x114 sparse matrix of type '<class 'numpy.float64'>'\n",
       "\twith 1389584 stored elements in Compressed Sparse Row format>"
      ]
     },
     "execution_count": 529,
     "metadata": {},
     "output_type": "execute_result"
    }
   ],
   "source": [
    "ctrans.fit_transform(x_train1)"
   ]
  },
  {
   "cell_type": "code",
   "execution_count": 530,
   "metadata": {},
   "outputs": [],
   "source": [
    "params={}\n",
    "params[\"logisticregression__penalty\"]=[\"l1\",\"l2\"]\n",
    "params[\"logisticregression__C\"]=[.1,.01,1,10]"
   ]
  },
  {
   "cell_type": "code",
   "execution_count": 531,
   "metadata": {},
   "outputs": [],
   "source": [
    "logreg=LogisticRegression(solver=\"liblinear\",random_state=2)\n",
    "pipe=make_pipeline(ctrans,logreg)"
   ]
  },
  {
   "cell_type": "code",
   "execution_count": 532,
   "metadata": {},
   "outputs": [],
   "source": [
    "grid=GridSearchCV(pipe,params,cv=5,scoring=\"accuracy\")"
   ]
  },
  {
   "cell_type": "code",
   "execution_count": 533,
   "metadata": {},
   "outputs": [
    {
     "data": {
      "text/plain": [
       "GridSearchCV(cv=5, error_score=nan,\n",
       "             estimator=Pipeline(memory=None,\n",
       "                                steps=[('columntransformer',\n",
       "                                        ColumnTransformer(n_jobs=None,\n",
       "                                                          remainder='drop',\n",
       "                                                          sparse_threshold=0.3,\n",
       "                                                          transformer_weights=None,\n",
       "                                                          transformers=[('pipeline-1',\n",
       "                                                                         Pipeline(memory=None,\n",
       "                                                                                  steps=[('simpleimputer',\n",
       "                                                                                          SimpleImputer(add_indicator=False,\n",
       "                                                                                                        copy=True,\n",
       "                                                                                                        fill_value=None,\n",
       "                                                                                                        missing_values=nan,\n",
       "                                                                                                        strategy='me...\n",
       "                                                           max_iter=100,\n",
       "                                                           multi_class='auto',\n",
       "                                                           n_jobs=None,\n",
       "                                                           penalty='l2',\n",
       "                                                           random_state=2,\n",
       "                                                           solver='liblinear',\n",
       "                                                           tol=0.0001,\n",
       "                                                           verbose=0,\n",
       "                                                           warm_start=False))],\n",
       "                                verbose=False),\n",
       "             iid='deprecated', n_jobs=None,\n",
       "             param_grid={'logisticregression__C': [0.1, 0.01, 1, 10],\n",
       "                         'logisticregression__penalty': ['l1', 'l2']},\n",
       "             pre_dispatch='2*n_jobs', refit=True, return_train_score=False,\n",
       "             scoring='accuracy', verbose=0)"
      ]
     },
     "execution_count": 533,
     "metadata": {},
     "output_type": "execute_result"
    }
   ],
   "source": [
    "grid"
   ]
  },
  {
   "cell_type": "code",
   "execution_count": 534,
   "metadata": {},
   "outputs": [
    {
     "data": {
      "text/plain": [
       "GridSearchCV(cv=5, error_score=nan,\n",
       "             estimator=Pipeline(memory=None,\n",
       "                                steps=[('columntransformer',\n",
       "                                        ColumnTransformer(n_jobs=None,\n",
       "                                                          remainder='drop',\n",
       "                                                          sparse_threshold=0.3,\n",
       "                                                          transformer_weights=None,\n",
       "                                                          transformers=[('pipeline-1',\n",
       "                                                                         Pipeline(memory=None,\n",
       "                                                                                  steps=[('simpleimputer',\n",
       "                                                                                          SimpleImputer(add_indicator=False,\n",
       "                                                                                                        copy=True,\n",
       "                                                                                                        fill_value=None,\n",
       "                                                                                                        missing_values=nan,\n",
       "                                                                                                        strategy='me...\n",
       "                                                           max_iter=100,\n",
       "                                                           multi_class='auto',\n",
       "                                                           n_jobs=None,\n",
       "                                                           penalty='l2',\n",
       "                                                           random_state=2,\n",
       "                                                           solver='liblinear',\n",
       "                                                           tol=0.0001,\n",
       "                                                           verbose=0,\n",
       "                                                           warm_start=False))],\n",
       "                                verbose=False),\n",
       "             iid='deprecated', n_jobs=None,\n",
       "             param_grid={'logisticregression__C': [0.1, 0.01, 1, 10],\n",
       "                         'logisticregression__penalty': ['l1', 'l2']},\n",
       "             pre_dispatch='2*n_jobs', refit=True, return_train_score=False,\n",
       "             scoring='accuracy', verbose=0)"
      ]
     },
     "execution_count": 534,
     "metadata": {},
     "output_type": "execute_result"
    }
   ],
   "source": [
    "grid.fit(x_train1,y_train1)"
   ]
  },
  {
   "cell_type": "code",
   "execution_count": 535,
   "metadata": {},
   "outputs": [
    {
     "data": {
      "text/plain": [
       "0.788313761783282"
      ]
     },
     "execution_count": 535,
     "metadata": {},
     "output_type": "execute_result"
    }
   ],
   "source": [
    "roc_auc_score(y_train1,grid.predict_proba(x_train1)[:,1])"
   ]
  },
  {
   "cell_type": "code",
   "execution_count": 536,
   "metadata": {},
   "outputs": [
    {
     "data": {
      "text/plain": [
       "0.7822707116936237"
      ]
     },
     "execution_count": 536,
     "metadata": {},
     "output_type": "execute_result"
    }
   ],
   "source": [
    "roc_auc_score(y_test1,grid.predict_proba(x_test1)[:,1])"
   ]
  },
  {
   "cell_type": "code",
   "execution_count": 537,
   "metadata": {},
   "outputs": [
    {
     "data": {
      "text/plain": [
       "array([1, 0, 0, ..., 0, 0, 0], dtype=int64)"
      ]
     },
     "execution_count": 537,
     "metadata": {},
     "output_type": "execute_result"
    }
   ],
   "source": [
    "grid.predict(x_train1)"
   ]
  },
  {
   "cell_type": "code",
   "execution_count": 539,
   "metadata": {},
   "outputs": [],
   "source": [
    "pred=grid.predict(prop_test)"
   ]
  },
  {
   "cell_type": "code",
   "execution_count": 540,
   "metadata": {},
   "outputs": [],
   "source": [
    "submiss=pd.DataFrame(data=pred)"
   ]
  },
  {
   "cell_type": "code",
   "execution_count": 542,
   "metadata": {},
   "outputs": [
    {
     "data": {
      "text/plain": [
       "0    10431\n",
       "1      517\n",
       "Name: 0, dtype: int64"
      ]
     },
     "execution_count": 542,
     "metadata": {},
     "output_type": "execute_result"
    }
   ],
   "source": [
    "submiss[0].value_counts()"
   ]
  },
  {
   "cell_type": "code",
   "execution_count": null,
   "metadata": {},
   "outputs": [],
   "source": []
  },
  {
   "cell_type": "code",
   "execution_count": null,
   "metadata": {},
   "outputs": [],
   "source": []
  },
  {
   "cell_type": "markdown",
   "metadata": {},
   "source": [
    "## XGBoost"
   ]
  },
  {
   "cell_type": "code",
   "execution_count": 101,
   "metadata": {},
   "outputs": [],
   "source": [
    "strings=\"xgb__\"\n",
    "parameters={'n_estimators':[20,40,80,150,200],\n",
    "            'max_depth':range(2,10,1),\n",
    "            'learning_rate':[.1,.01,.05],\n",
    "            'reg_alpha':[.1,.01,1,10],\n",
    "            'reg_lambda':[.1,.01,1,10]}\n"
   ]
  },
  {
   "cell_type": "code",
   "execution_count": 102,
   "metadata": {},
   "outputs": [
    {
     "data": {
      "text/plain": [
       "dict_items([('n_estimators', [20, 40, 80, 150, 200]), ('max_depth', range(2, 10)), ('learning_rate', [0.1, 0.01, 0.05]), ('reg_alpha', [0.1, 0.01, 1, 10]), ('reg_lambda', [0.1, 0.01, 1, 10])])"
      ]
     },
     "execution_count": 102,
     "metadata": {},
     "output_type": "execute_result"
    }
   ],
   "source": [
    "parameters.items()"
   ]
  },
  {
   "cell_type": "code",
   "execution_count": 103,
   "metadata": {},
   "outputs": [],
   "source": [
    "xgb_params={}\n",
    "for k,v in parameters.items():\n",
    "    xgb_params[strings+k]=v"
   ]
  },
  {
   "cell_type": "code",
   "execution_count": 104,
   "metadata": {},
   "outputs": [
    {
     "data": {
      "text/plain": [
       "{'xgb__n_estimators': [20, 40, 80, 150, 200],\n",
       " 'xgb__max_depth': range(2, 10),\n",
       " 'xgb__learning_rate': [0.1, 0.01, 0.05],\n",
       " 'xgb__reg_alpha': [0.1, 0.01, 1, 10],\n",
       " 'xgb__reg_lambda': [0.1, 0.01, 1, 10]}"
      ]
     },
     "execution_count": 104,
     "metadata": {},
     "output_type": "execute_result"
    }
   ],
   "source": [
    "xgb_params"
   ]
  },
  {
   "cell_type": "code",
   "execution_count": 105,
   "metadata": {},
   "outputs": [
    {
     "data": {
      "text/plain": [
       "<49628x114 sparse matrix of type '<class 'numpy.float64'>'\n",
       "\twith 1389584 stored elements in Compressed Sparse Row format>"
      ]
     },
     "execution_count": 105,
     "metadata": {},
     "output_type": "execute_result"
    }
   ],
   "source": [
    "ctrans.fit_transform(x_train1)"
   ]
  },
  {
   "cell_type": "code",
   "execution_count": 106,
   "metadata": {},
   "outputs": [],
   "source": [
    "xgb=xgbs.XGBClassifier()\n",
    "pipe=Pipeline([('columntransfer',ctrans),('xgb',xgb)])"
   ]
  },
  {
   "cell_type": "code",
   "execution_count": 107,
   "metadata": {},
   "outputs": [
    {
     "data": {
      "text/plain": [
       "Pipeline(memory=None,\n",
       "         steps=[('columntransfer',\n",
       "                 ColumnTransformer(n_jobs=None, remainder='drop',\n",
       "                                   sparse_threshold=0.3,\n",
       "                                   transformer_weights=None,\n",
       "                                   transformers=[('pipeline-1',\n",
       "                                                  Pipeline(memory=None,\n",
       "                                                           steps=[('simpleimputer',\n",
       "                                                                   SimpleImputer(add_indicator=False,\n",
       "                                                                                 copy=True,\n",
       "                                                                                 fill_value=None,\n",
       "                                                                                 missing_values=nan,\n",
       "                                                                                 strategy='median',\n",
       "                                                                                 verbose=0)),\n",
       "                                                                  ('standardscaler',\n",
       "                                                                   StandardSca...\n",
       "                 XGBClassifier(base_score=0.5, booster='gbtree',\n",
       "                               colsample_bylevel=1, colsample_bynode=1,\n",
       "                               colsample_bytree=1, gamma=0, learning_rate=0.1,\n",
       "                               max_delta_step=0, max_depth=3,\n",
       "                               min_child_weight=1, missing=None,\n",
       "                               n_estimators=100, n_jobs=1, nthread=None,\n",
       "                               objective='binary:logistic', random_state=0,\n",
       "                               reg_alpha=0, reg_lambda=1, scale_pos_weight=1,\n",
       "                               seed=None, silent=None, subsample=1,\n",
       "                               verbosity=1))],\n",
       "         verbose=False)"
      ]
     },
     "execution_count": 107,
     "metadata": {},
     "output_type": "execute_result"
    }
   ],
   "source": [
    "pipe"
   ]
  },
  {
   "cell_type": "code",
   "execution_count": 108,
   "metadata": {},
   "outputs": [],
   "source": [
    "grid=RandomizedSearchCV(pipe,xgb_params,cv=5,scoring=\"accuracy\")"
   ]
  },
  {
   "cell_type": "code",
   "execution_count": 109,
   "metadata": {},
   "outputs": [
    {
     "data": {
      "text/plain": [
       "RandomizedSearchCV(cv=5, error_score=nan,\n",
       "                   estimator=Pipeline(memory=None,\n",
       "                                      steps=[('columntransfer',\n",
       "                                              ColumnTransformer(n_jobs=None,\n",
       "                                                                remainder='drop',\n",
       "                                                                sparse_threshold=0.3,\n",
       "                                                                transformer_weights=None,\n",
       "                                                                transformers=[('pipeline-1',\n",
       "                                                                               Pipeline(memory=None,\n",
       "                                                                                        steps=[('simpleimputer',\n",
       "                                                                                                SimpleImputer(add_indicator=False,\n",
       "                                                                                                              copy=True,\n",
       "                                                                                                              fill_value=None,\n",
       "                                                                                                              missing_values=nan,\n",
       "                                                                                                              strategy=...\n",
       "                                      verbose=False),\n",
       "                   iid='deprecated', n_iter=10, n_jobs=None,\n",
       "                   param_distributions={'xgb__learning_rate': [0.1, 0.01, 0.05],\n",
       "                                        'xgb__max_depth': range(2, 10),\n",
       "                                        'xgb__n_estimators': [20, 40, 80, 150,\n",
       "                                                              200],\n",
       "                                        'xgb__reg_alpha': [0.1, 0.01, 1, 10],\n",
       "                                        'xgb__reg_lambda': [0.1, 0.01, 1, 10]},\n",
       "                   pre_dispatch='2*n_jobs', random_state=None, refit=True,\n",
       "                   return_train_score=False, scoring='accuracy', verbose=0)"
      ]
     },
     "execution_count": 109,
     "metadata": {},
     "output_type": "execute_result"
    }
   ],
   "source": [
    "grid"
   ]
  },
  {
   "cell_type": "code",
   "execution_count": 110,
   "metadata": {},
   "outputs": [
    {
     "data": {
      "text/plain": [
       "RandomizedSearchCV(cv=5, error_score=nan,\n",
       "                   estimator=Pipeline(memory=None,\n",
       "                                      steps=[('columntransfer',\n",
       "                                              ColumnTransformer(n_jobs=None,\n",
       "                                                                remainder='drop',\n",
       "                                                                sparse_threshold=0.3,\n",
       "                                                                transformer_weights=None,\n",
       "                                                                transformers=[('pipeline-1',\n",
       "                                                                               Pipeline(memory=None,\n",
       "                                                                                        steps=[('simpleimputer',\n",
       "                                                                                                SimpleImputer(add_indicator=False,\n",
       "                                                                                                              copy=True,\n",
       "                                                                                                              fill_value=None,\n",
       "                                                                                                              missing_values=nan,\n",
       "                                                                                                              strategy=...\n",
       "                                      verbose=False),\n",
       "                   iid='deprecated', n_iter=10, n_jobs=None,\n",
       "                   param_distributions={'xgb__learning_rate': [0.1, 0.01, 0.05],\n",
       "                                        'xgb__max_depth': range(2, 10),\n",
       "                                        'xgb__n_estimators': [20, 40, 80, 150,\n",
       "                                                              200],\n",
       "                                        'xgb__reg_alpha': [0.1, 0.01, 1, 10],\n",
       "                                        'xgb__reg_lambda': [0.1, 0.01, 1, 10]},\n",
       "                   pre_dispatch='2*n_jobs', random_state=None, refit=True,\n",
       "                   return_train_score=False, scoring='accuracy', verbose=0)"
      ]
     },
     "execution_count": 110,
     "metadata": {},
     "output_type": "execute_result"
    }
   ],
   "source": [
    "grid.fit(x_train1,y_train1)"
   ]
  },
  {
   "cell_type": "code",
   "execution_count": 111,
   "metadata": {},
   "outputs": [
    {
     "data": {
      "text/plain": [
       "0.8126512789370515"
      ]
     },
     "execution_count": 111,
     "metadata": {},
     "output_type": "execute_result"
    }
   ],
   "source": [
    "roc_auc_score(y_train1,grid.predict_proba(x_train1)[:,1])"
   ]
  },
  {
   "cell_type": "code",
   "execution_count": 112,
   "metadata": {},
   "outputs": [
    {
     "data": {
      "text/plain": [
       "0.7784581128874882"
      ]
     },
     "execution_count": 112,
     "metadata": {},
     "output_type": "execute_result"
    }
   ],
   "source": [
    "roc_auc_score(y_test1,grid.predict_proba(x_test1)[:,1])"
   ]
  },
  {
   "cell_type": "code",
   "execution_count": 113,
   "metadata": {},
   "outputs": [
    {
     "data": {
      "text/plain": [
       "{'xgb__reg_lambda': 1,\n",
       " 'xgb__reg_alpha': 1,\n",
       " 'xgb__n_estimators': 150,\n",
       " 'xgb__max_depth': 9,\n",
       " 'xgb__learning_rate': 0.01}"
      ]
     },
     "execution_count": 113,
     "metadata": {},
     "output_type": "execute_result"
    }
   ],
   "source": [
    "grid.best_params_"
   ]
  },
  {
   "cell_type": "code",
   "execution_count": 114,
   "metadata": {},
   "outputs": [
    {
     "data": {
      "text/plain": [
       "array([0, 0, 0, ..., 0, 0, 0], dtype=int64)"
      ]
     },
     "execution_count": 114,
     "metadata": {},
     "output_type": "execute_result"
    }
   ],
   "source": [
    "grid.predict(x_train1)"
   ]
  },
  {
   "cell_type": "code",
   "execution_count": 116,
   "metadata": {},
   "outputs": [],
   "source": [
    "pred=grid.predict(prop_test)"
   ]
  },
  {
   "cell_type": "code",
   "execution_count": 117,
   "metadata": {},
   "outputs": [
    {
     "data": {
      "text/plain": [
       "array([0, 1, 0, ..., 0, 0, 1], dtype=int64)"
      ]
     },
     "execution_count": 117,
     "metadata": {},
     "output_type": "execute_result"
    }
   ],
   "source": [
    "pred"
   ]
  },
  {
   "cell_type": "code",
   "execution_count": 118,
   "metadata": {},
   "outputs": [],
   "source": [
    "submiss_3=pd.DataFrame(data=pred)"
   ]
  },
  {
   "cell_type": "code",
   "execution_count": 121,
   "metadata": {},
   "outputs": [
    {
     "data": {
      "text/html": [
       "<div>\n",
       "<style scoped>\n",
       "    .dataframe tbody tr th:only-of-type {\n",
       "        vertical-align: middle;\n",
       "    }\n",
       "\n",
       "    .dataframe tbody tr th {\n",
       "        vertical-align: top;\n",
       "    }\n",
       "\n",
       "    .dataframe thead th {\n",
       "        text-align: right;\n",
       "    }\n",
       "</style>\n",
       "<table border=\"1\" class=\"dataframe\">\n",
       "  <thead>\n",
       "    <tr style=\"text-align: right;\">\n",
       "      <th></th>\n",
       "      <th>0</th>\n",
       "    </tr>\n",
       "  </thead>\n",
       "  <tbody>\n",
       "    <tr>\n",
       "      <th>0</th>\n",
       "      <td>0</td>\n",
       "    </tr>\n",
       "    <tr>\n",
       "      <th>1</th>\n",
       "      <td>1</td>\n",
       "    </tr>\n",
       "    <tr>\n",
       "      <th>2</th>\n",
       "      <td>0</td>\n",
       "    </tr>\n",
       "    <tr>\n",
       "      <th>3</th>\n",
       "      <td>1</td>\n",
       "    </tr>\n",
       "    <tr>\n",
       "      <th>4</th>\n",
       "      <td>1</td>\n",
       "    </tr>\n",
       "    <tr>\n",
       "      <th>...</th>\n",
       "      <td>...</td>\n",
       "    </tr>\n",
       "    <tr>\n",
       "      <th>10943</th>\n",
       "      <td>0</td>\n",
       "    </tr>\n",
       "    <tr>\n",
       "      <th>10944</th>\n",
       "      <td>0</td>\n",
       "    </tr>\n",
       "    <tr>\n",
       "      <th>10945</th>\n",
       "      <td>0</td>\n",
       "    </tr>\n",
       "    <tr>\n",
       "      <th>10946</th>\n",
       "      <td>0</td>\n",
       "    </tr>\n",
       "    <tr>\n",
       "      <th>10947</th>\n",
       "      <td>1</td>\n",
       "    </tr>\n",
       "  </tbody>\n",
       "</table>\n",
       "<p>10948 rows × 1 columns</p>\n",
       "</div>"
      ],
      "text/plain": [
       "       0\n",
       "0      0\n",
       "1      1\n",
       "2      0\n",
       "3      1\n",
       "4      1\n",
       "...   ..\n",
       "10943  0\n",
       "10944  0\n",
       "10945  0\n",
       "10946  0\n",
       "10947  1\n",
       "\n",
       "[10948 rows x 1 columns]"
      ]
     },
     "execution_count": 121,
     "metadata": {},
     "output_type": "execute_result"
    }
   ],
   "source": [
    "submiss_3"
   ]
  },
  {
   "cell_type": "code",
   "execution_count": 120,
   "metadata": {},
   "outputs": [
    {
     "data": {
      "text/plain": [
       "0    6481\n",
       "1    4467\n",
       "Name: 0, dtype: int64"
      ]
     },
     "execution_count": 120,
     "metadata": {},
     "output_type": "execute_result"
    }
   ],
   "source": [
    "submiss_3[0].value_counts()"
   ]
  },
  {
   "cell_type": "code",
   "execution_count": 123,
   "metadata": {},
   "outputs": [],
   "source": [
    "submiss_3=submiss_3.rename({0:'Junk'},axis=1)"
   ]
  },
  {
   "cell_type": "code",
   "execution_count": 124,
   "metadata": {},
   "outputs": [
    {
     "data": {
      "text/html": [
       "<div>\n",
       "<style scoped>\n",
       "    .dataframe tbody tr th:only-of-type {\n",
       "        vertical-align: middle;\n",
       "    }\n",
       "\n",
       "    .dataframe tbody tr th {\n",
       "        vertical-align: top;\n",
       "    }\n",
       "\n",
       "    .dataframe thead th {\n",
       "        text-align: right;\n",
       "    }\n",
       "</style>\n",
       "<table border=\"1\" class=\"dataframe\">\n",
       "  <thead>\n",
       "    <tr style=\"text-align: right;\">\n",
       "      <th></th>\n",
       "      <th>Junk</th>\n",
       "    </tr>\n",
       "  </thead>\n",
       "  <tbody>\n",
       "    <tr>\n",
       "      <th>0</th>\n",
       "      <td>0</td>\n",
       "    </tr>\n",
       "    <tr>\n",
       "      <th>1</th>\n",
       "      <td>1</td>\n",
       "    </tr>\n",
       "    <tr>\n",
       "      <th>2</th>\n",
       "      <td>0</td>\n",
       "    </tr>\n",
       "    <tr>\n",
       "      <th>3</th>\n",
       "      <td>1</td>\n",
       "    </tr>\n",
       "    <tr>\n",
       "      <th>4</th>\n",
       "      <td>1</td>\n",
       "    </tr>\n",
       "    <tr>\n",
       "      <th>...</th>\n",
       "      <td>...</td>\n",
       "    </tr>\n",
       "    <tr>\n",
       "      <th>10943</th>\n",
       "      <td>0</td>\n",
       "    </tr>\n",
       "    <tr>\n",
       "      <th>10944</th>\n",
       "      <td>0</td>\n",
       "    </tr>\n",
       "    <tr>\n",
       "      <th>10945</th>\n",
       "      <td>0</td>\n",
       "    </tr>\n",
       "    <tr>\n",
       "      <th>10946</th>\n",
       "      <td>0</td>\n",
       "    </tr>\n",
       "    <tr>\n",
       "      <th>10947</th>\n",
       "      <td>1</td>\n",
       "    </tr>\n",
       "  </tbody>\n",
       "</table>\n",
       "<p>10948 rows × 1 columns</p>\n",
       "</div>"
      ],
      "text/plain": [
       "       Junk\n",
       "0         0\n",
       "1         1\n",
       "2         0\n",
       "3         1\n",
       "4         1\n",
       "...     ...\n",
       "10943     0\n",
       "10944     0\n",
       "10945     0\n",
       "10946     0\n",
       "10947     1\n",
       "\n",
       "[10948 rows x 1 columns]"
      ]
     },
     "execution_count": 124,
     "metadata": {},
     "output_type": "execute_result"
    }
   ],
   "source": [
    "submiss_3"
   ]
  },
  {
   "cell_type": "code",
   "execution_count": 125,
   "metadata": {},
   "outputs": [],
   "source": [
    "submiss_3=submiss_3.to_csv(\"Priyanshi_Project_5_2.csv\",index=False)"
   ]
  },
  {
   "cell_type": "code",
   "execution_count": null,
   "metadata": {},
   "outputs": [],
   "source": []
  }
 ],
 "metadata": {
  "kernelspec": {
   "display_name": "Python 3",
   "language": "python",
   "name": "python3"
  },
  "language_info": {
   "codemirror_mode": {
    "name": "ipython",
    "version": 3
   },
   "file_extension": ".py",
   "mimetype": "text/x-python",
   "name": "python",
   "nbconvert_exporter": "python",
   "pygments_lexer": "ipython3",
   "version": "3.7.7"
  }
 },
 "nbformat": 4,
 "nbformat_minor": 4
}
