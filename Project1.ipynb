{
 "cells": [
  {
   "cell_type": "code",
   "execution_count": 1,
   "metadata": {},
   "outputs": [],
   "source": [
    "import warnings\n",
    "warnings.filterwarnings('ignore')\n",
    "import pandas as pd\n",
    "import numpy as np\n",
    "import math\n",
    "\n",
    "from sklearn.preprocessing import OneHotEncoder, MinMaxScaler, StandardScaler,OrdinalEncoder\n",
    "from sklearn.compose import ColumnTransformer,make_column_transformer\n",
    "from sklearn.pipeline import Pipeline,make_pipeline\n",
    "from sklearn.model_selection import train_test_split,cross_val_score,GridSearchCV,RandomizedSearchCV\n",
    "from sklearn.impute import SimpleImputer\n",
    "from sklearn.linear_model import LogisticRegression\n",
    "from sklearn.metrics import roc_auc_score,roc_curve,precision_recall_curve,classification_report\n",
    "from sklearn.ensemble import RandomForestClassifier\n",
    "from sklearn.neural_network import MLPClassifier\n",
    "from scipy.sparse import csr_matrix\n",
    "from eli5.sklearn import PermutationImportance\n",
    "\n",
    "import eli5\n",
    "import xgboost as xgbs\n",
    "import seaborn as sns\n",
    "import matplotlib.pyplot as plt\n",
    "from yellowbrick import classifier, features, regressor\n",
    "import pickle\n",
    "import re"
   ]
  },
  {
   "cell_type": "code",
   "execution_count": 2,
   "metadata": {
    "collapsed": false,
    "jupyter": {
     "outputs_hidden": false
    }
   },
   "outputs": [],
   "source": [
    "datafile_train=r'C:\\Users\\Priyanshi\\Downloads\\py_data\\Consumer_Complaints_train.csv'\n",
    "datafile_test=r'C:\\Users\\Priyanshi\\Downloads\\py_data\\Consumer_Complaints_test_share.csv'\n",
    "cd_train=pd.read_csv(datafile_train)\n",
    "cd_test=pd.read_csv(datafile_test)"
   ]
  },
  {
   "cell_type": "code",
   "execution_count": 3,
   "metadata": {},
   "outputs": [
    {
     "data": {
      "text/plain": [
       "((478421, 18), (119606, 17))"
      ]
     },
     "execution_count": 3,
     "metadata": {},
     "output_type": "execute_result"
    }
   ],
   "source": [
    "cd_train.shape,cd_test.shape"
   ]
  },
  {
   "cell_type": "code",
   "execution_count": 4,
   "metadata": {},
   "outputs": [
    {
     "data": {
      "text/plain": [
       "Index(['Date received', 'Product', 'Sub-product', 'Issue', 'Sub-issue',\n",
       "       'Consumer complaint narrative', 'Company public response', 'Company',\n",
       "       'State', 'ZIP code', 'Tags', 'Consumer consent provided?',\n",
       "       'Submitted via', 'Date sent to company', 'Company response to consumer',\n",
       "       'Timely response?', 'Consumer disputed?', 'Complaint ID'],\n",
       "      dtype='object')"
      ]
     },
     "execution_count": 4,
     "metadata": {},
     "output_type": "execute_result"
    }
   ],
   "source": [
    "cd_train.columns"
   ]
  },
  {
   "cell_type": "code",
   "execution_count": 5,
   "metadata": {},
   "outputs": [
    {
     "data": {
      "text/plain": [
       "Index(['Date received', 'Product', 'Sub-product', 'Issue', 'Sub-issue',\n",
       "       'Consumer complaint narrative', 'Company public response', 'Company',\n",
       "       'State', 'ZIP code', 'Tags', 'Consumer consent provided?',\n",
       "       'Submitted via', 'Date sent to company', 'Company response to consumer',\n",
       "       'Timely response?', 'Complaint ID'],\n",
       "      dtype='object')"
      ]
     },
     "execution_count": 5,
     "metadata": {},
     "output_type": "execute_result"
    }
   ],
   "source": [
    "cd_test.columns"
   ]
  },
  {
   "cell_type": "code",
   "execution_count": 6,
   "metadata": {},
   "outputs": [
    {
     "data": {
      "text/plain": [
       "Date received                     1759\n",
       "Product                             12\n",
       "Sub-product                         47\n",
       "Issue                               95\n",
       "Sub-issue                           68\n",
       "Consumer complaint narrative     74019\n",
       "Company public response             10\n",
       "Company                           3276\n",
       "State                               62\n",
       "ZIP code                         25962\n",
       "Tags                                 3\n",
       "Consumer consent provided?           4\n",
       "Submitted via                        6\n",
       "Date sent to company              1706\n",
       "Company response to consumer         7\n",
       "Timely response?                     2\n",
       "Consumer disputed?                   2\n",
       "Complaint ID                    478421\n",
       "dtype: int64"
      ]
     },
     "execution_count": 6,
     "metadata": {},
     "output_type": "execute_result"
    }
   ],
   "source": [
    "cd_train.nunique()"
   ]
  },
  {
   "cell_type": "code",
   "execution_count": 7,
   "metadata": {},
   "outputs": [
    {
     "data": {
      "text/plain": [
       "Date received                   object\n",
       "Product                         object\n",
       "Sub-product                     object\n",
       "Issue                           object\n",
       "Sub-issue                       object\n",
       "Consumer complaint narrative    object\n",
       "Company public response         object\n",
       "Company                         object\n",
       "State                           object\n",
       "ZIP code                        object\n",
       "Tags                            object\n",
       "Consumer consent provided?      object\n",
       "Submitted via                   object\n",
       "Date sent to company            object\n",
       "Company response to consumer    object\n",
       "Timely response?                object\n",
       "Consumer disputed?              object\n",
       "Complaint ID                     int64\n",
       "dtype: object"
      ]
     },
     "execution_count": 7,
     "metadata": {},
     "output_type": "execute_result"
    }
   ],
   "source": [
    "cd_train.dtypes"
   ]
  },
  {
   "cell_type": "code",
   "execution_count": 8,
   "metadata": {},
   "outputs": [
    {
     "data": {
      "text/plain": [
       "Date received                        0\n",
       "Product                              0\n",
       "Sub-product                     138473\n",
       "Issue                                0\n",
       "Sub-issue                       292625\n",
       "Consumer complaint narrative    403327\n",
       "Company public response         388029\n",
       "Company                              0\n",
       "State                             3839\n",
       "ZIP code                          3848\n",
       "Tags                            411215\n",
       "Consumer consent provided?      342934\n",
       "Submitted via                        0\n",
       "Date sent to company                 0\n",
       "Company response to consumer         0\n",
       "Timely response?                     0\n",
       "Consumer disputed?                   0\n",
       "Complaint ID                         0\n",
       "dtype: int64"
      ]
     },
     "execution_count": 8,
     "metadata": {},
     "output_type": "execute_result"
    }
   ],
   "source": [
    "cd_train.isnull().sum()"
   ]
  },
  {
   "cell_type": "code",
   "execution_count": 9,
   "metadata": {},
   "outputs": [],
   "source": [
    "#substituing space between column names with underscore\n",
    "cd_train.columns=[re.sub(\"-|\\s\",\"_\",item) for item in cd_train.columns]\n",
    "cd_test.columns=[re.sub(\"-|\\s\",\"_\",item) for item in cd_test.columns]"
   ]
  },
  {
   "cell_type": "code",
   "execution_count": 10,
   "metadata": {},
   "outputs": [
    {
     "data": {
      "text/html": [
       "<div>\n",
       "<style scoped>\n",
       "    .dataframe tbody tr th:only-of-type {\n",
       "        vertical-align: middle;\n",
       "    }\n",
       "\n",
       "    .dataframe tbody tr th {\n",
       "        vertical-align: top;\n",
       "    }\n",
       "\n",
       "    .dataframe thead th {\n",
       "        text-align: right;\n",
       "    }\n",
       "</style>\n",
       "<table border=\"1\" class=\"dataframe\">\n",
       "  <thead>\n",
       "    <tr style=\"text-align: right;\">\n",
       "      <th></th>\n",
       "      <th>Date_received</th>\n",
       "      <th>Product</th>\n",
       "      <th>Sub_product</th>\n",
       "      <th>Issue</th>\n",
       "      <th>Sub_issue</th>\n",
       "      <th>Consumer_complaint_narrative</th>\n",
       "      <th>Company_public_response</th>\n",
       "      <th>Company</th>\n",
       "      <th>State</th>\n",
       "      <th>ZIP_code</th>\n",
       "      <th>Tags</th>\n",
       "      <th>Consumer_consent_provided?</th>\n",
       "      <th>Submitted_via</th>\n",
       "      <th>Date_sent_to_company</th>\n",
       "      <th>Company_response_to_consumer</th>\n",
       "      <th>Timely_response?</th>\n",
       "      <th>Consumer_disputed?</th>\n",
       "      <th>Complaint_ID</th>\n",
       "    </tr>\n",
       "  </thead>\n",
       "  <tbody>\n",
       "    <tr>\n",
       "      <th>0</th>\n",
       "      <td>2014-05-15</td>\n",
       "      <td>Credit card</td>\n",
       "      <td>NaN</td>\n",
       "      <td>Billing statement</td>\n",
       "      <td>NaN</td>\n",
       "      <td>NaN</td>\n",
       "      <td>NaN</td>\n",
       "      <td>Wells Fargo &amp; Company</td>\n",
       "      <td>MI</td>\n",
       "      <td>48342</td>\n",
       "      <td>Older American</td>\n",
       "      <td>NaN</td>\n",
       "      <td>Web</td>\n",
       "      <td>2014-05-16</td>\n",
       "      <td>Closed with explanation</td>\n",
       "      <td>Yes</td>\n",
       "      <td>No</td>\n",
       "      <td>856103</td>\n",
       "    </tr>\n",
       "    <tr>\n",
       "      <th>1</th>\n",
       "      <td>2014-09-18</td>\n",
       "      <td>Bank account or service</td>\n",
       "      <td>(CD) Certificate of deposit</td>\n",
       "      <td>Making/receiving payments, sending money</td>\n",
       "      <td>NaN</td>\n",
       "      <td>NaN</td>\n",
       "      <td>NaN</td>\n",
       "      <td>Santander Bank US</td>\n",
       "      <td>PA</td>\n",
       "      <td>18042</td>\n",
       "      <td>NaN</td>\n",
       "      <td>NaN</td>\n",
       "      <td>Referral</td>\n",
       "      <td>2014-09-24</td>\n",
       "      <td>Closed</td>\n",
       "      <td>Yes</td>\n",
       "      <td>No</td>\n",
       "      <td>1034666</td>\n",
       "    </tr>\n",
       "  </tbody>\n",
       "</table>\n",
       "</div>"
      ],
      "text/plain": [
       "  Date_received                  Product                  Sub_product  \\\n",
       "0    2014-05-15              Credit card                          NaN   \n",
       "1    2014-09-18  Bank account or service  (CD) Certificate of deposit   \n",
       "\n",
       "                                      Issue Sub_issue  \\\n",
       "0                         Billing statement       NaN   \n",
       "1  Making/receiving payments, sending money       NaN   \n",
       "\n",
       "  Consumer_complaint_narrative Company_public_response                Company  \\\n",
       "0                          NaN                     NaN  Wells Fargo & Company   \n",
       "1                          NaN                     NaN      Santander Bank US   \n",
       "\n",
       "  State ZIP_code            Tags Consumer_consent_provided? Submitted_via  \\\n",
       "0    MI    48342  Older American                        NaN           Web   \n",
       "1    PA    18042             NaN                        NaN      Referral   \n",
       "\n",
       "  Date_sent_to_company Company_response_to_consumer Timely_response?  \\\n",
       "0           2014-05-16      Closed with explanation              Yes   \n",
       "1           2014-09-24                       Closed              Yes   \n",
       "\n",
       "  Consumer_disputed?  Complaint_ID  \n",
       "0                 No        856103  \n",
       "1                 No       1034666  "
      ]
     },
     "execution_count": 10,
     "metadata": {},
     "output_type": "execute_result"
    }
   ],
   "source": [
    "cd_train.head(2)"
   ]
  },
  {
   "cell_type": "code",
   "execution_count": 11,
   "metadata": {},
   "outputs": [
    {
     "data": {
      "text/html": [
       "<div>\n",
       "<style scoped>\n",
       "    .dataframe tbody tr th:only-of-type {\n",
       "        vertical-align: middle;\n",
       "    }\n",
       "\n",
       "    .dataframe tbody tr th {\n",
       "        vertical-align: top;\n",
       "    }\n",
       "\n",
       "    .dataframe thead th {\n",
       "        text-align: right;\n",
       "    }\n",
       "</style>\n",
       "<table border=\"1\" class=\"dataframe\">\n",
       "  <thead>\n",
       "    <tr style=\"text-align: right;\">\n",
       "      <th></th>\n",
       "      <th>Date_received</th>\n",
       "      <th>Product</th>\n",
       "      <th>Sub_product</th>\n",
       "      <th>Issue</th>\n",
       "      <th>Sub_issue</th>\n",
       "      <th>Consumer_complaint_narrative</th>\n",
       "      <th>Company_public_response</th>\n",
       "      <th>Company</th>\n",
       "      <th>State</th>\n",
       "      <th>ZIP_code</th>\n",
       "      <th>Tags</th>\n",
       "      <th>Consumer_consent_provided?</th>\n",
       "      <th>Submitted_via</th>\n",
       "      <th>Date_sent_to_company</th>\n",
       "      <th>Company_response_to_consumer</th>\n",
       "      <th>Timely_response?</th>\n",
       "      <th>Complaint_ID</th>\n",
       "    </tr>\n",
       "  </thead>\n",
       "  <tbody>\n",
       "    <tr>\n",
       "      <th>0</th>\n",
       "      <td>2014-01-18</td>\n",
       "      <td>Bank account or service</td>\n",
       "      <td>Cashing a check without an account</td>\n",
       "      <td>Deposits and withdrawals</td>\n",
       "      <td>NaN</td>\n",
       "      <td>NaN</td>\n",
       "      <td>NaN</td>\n",
       "      <td>Bank of America</td>\n",
       "      <td>CA</td>\n",
       "      <td>95691</td>\n",
       "      <td>NaN</td>\n",
       "      <td>NaN</td>\n",
       "      <td>Web</td>\n",
       "      <td>2014-01-17</td>\n",
       "      <td>Closed with explanation</td>\n",
       "      <td>Yes</td>\n",
       "      <td>675956</td>\n",
       "    </tr>\n",
       "    <tr>\n",
       "      <th>1</th>\n",
       "      <td>2016-03-31</td>\n",
       "      <td>Debt collection</td>\n",
       "      <td>Credit card</td>\n",
       "      <td>Cont'd attempts collect debt not owed</td>\n",
       "      <td>Debt was paid</td>\n",
       "      <td>NaN</td>\n",
       "      <td>NaN</td>\n",
       "      <td>National Credit Adjusters, LLC</td>\n",
       "      <td>FL</td>\n",
       "      <td>32086</td>\n",
       "      <td>NaN</td>\n",
       "      <td>Consent not provided</td>\n",
       "      <td>Web</td>\n",
       "      <td>2016-03-31</td>\n",
       "      <td>Closed with explanation</td>\n",
       "      <td>Yes</td>\n",
       "      <td>1858795</td>\n",
       "    </tr>\n",
       "  </tbody>\n",
       "</table>\n",
       "</div>"
      ],
      "text/plain": [
       "  Date_received                  Product                         Sub_product  \\\n",
       "0    2014-01-18  Bank account or service  Cashing a check without an account   \n",
       "1    2016-03-31          Debt collection                         Credit card   \n",
       "\n",
       "                                   Issue      Sub_issue  \\\n",
       "0               Deposits and withdrawals            NaN   \n",
       "1  Cont'd attempts collect debt not owed  Debt was paid   \n",
       "\n",
       "  Consumer_complaint_narrative Company_public_response  \\\n",
       "0                          NaN                     NaN   \n",
       "1                          NaN                     NaN   \n",
       "\n",
       "                          Company State ZIP_code Tags  \\\n",
       "0                 Bank of America    CA    95691  NaN   \n",
       "1  National Credit Adjusters, LLC    FL    32086  NaN   \n",
       "\n",
       "  Consumer_consent_provided? Submitted_via Date_sent_to_company  \\\n",
       "0                        NaN           Web           2014-01-17   \n",
       "1       Consent not provided           Web           2016-03-31   \n",
       "\n",
       "  Company_response_to_consumer Timely_response?  Complaint_ID  \n",
       "0      Closed with explanation              Yes        675956  \n",
       "1      Closed with explanation              Yes       1858795  "
      ]
     },
     "execution_count": 11,
     "metadata": {},
     "output_type": "execute_result"
    }
   ],
   "source": [
    "cd_test.head(2)"
   ]
  },
  {
   "cell_type": "code",
   "execution_count": 12,
   "metadata": {},
   "outputs": [
    {
     "data": {
      "text/plain": [
       "2015-08-27    767\n",
       "2015-08-26    731\n",
       "2014-06-26    697\n",
       "2015-07-08    678\n",
       "2015-08-12    654\n",
       "             ... \n",
       "2016-09-18      6\n",
       "2016-09-21      4\n",
       "2016-09-22      4\n",
       "2014-03-09      3\n",
       "2016-09-23      1\n",
       "Name: Date_received, Length: 1759, dtype: int64"
      ]
     },
     "execution_count": 12,
     "metadata": {},
     "output_type": "execute_result"
    }
   ],
   "source": [
    "cd_train[\"Date_received\"].value_counts()"
   ]
  },
  {
   "cell_type": "code",
   "execution_count": 13,
   "metadata": {},
   "outputs": [],
   "source": [
    "#cd_train[\"Date received\"]=pd.to_datetime(cd_train[\"Date received\"],infer_datetime_format=True)"
   ]
  },
  {
   "cell_type": "code",
   "execution_count": 14,
   "metadata": {},
   "outputs": [],
   "source": [
    "for col in ['Date_received','Date_sent_to_company']:\n",
    "    cd_train[col]=pd.to_datetime(cd_train[col],infer_datetime_format=True)\n",
    "    cd_test[col]=pd.to_datetime(cd_test[col],infer_datetime_format=True)"
   ]
  },
  {
   "cell_type": "code",
   "execution_count": 17,
   "metadata": {},
   "outputs": [],
   "source": [
    "cd_train['day_diff']=(cd_train['Date_sent_to_company']-cd_train['Date_received']).dt.days\n",
    "cd_test['day_diff']=(cd_test['Date_sent_to_company']-cd_test['Date_received']).dt.days"
   ]
  },
  {
   "cell_type": "code",
   "execution_count": 18,
   "metadata": {},
   "outputs": [],
   "source": [
    "for col in ['Date_received','Date_sent_to_company']:\n",
    "    cd_train.drop([col],1,inplace=True)\n",
    "    cd_test.drop([col],1,inplace=True)"
   ]
  },
  {
   "cell_type": "code",
   "execution_count": 19,
   "metadata": {},
   "outputs": [
    {
     "data": {
      "text/plain": [
       "0      209750\n",
       "1       58939\n",
       "2       38005\n",
       "3       30711\n",
       "4       28639\n",
       "        ...  \n",
       "571         1\n",
       "612         1\n",
       "356         1\n",
       "573         1\n",
       "511         1\n",
       "Name: day_diff, Length: 398, dtype: int64"
      ]
     },
     "execution_count": 19,
     "metadata": {},
     "output_type": "execute_result"
    }
   ],
   "source": [
    "cd_train[\"day_diff\"].value_counts()"
   ]
  },
  {
   "cell_type": "code",
   "execution_count": 20,
   "metadata": {},
   "outputs": [
    {
     "data": {
      "text/plain": [
       "0      52518\n",
       "1      14598\n",
       "2       9608\n",
       "3       7758\n",
       "4       7121\n",
       "       ...  \n",
       "359        1\n",
       "285        1\n",
       "250        1\n",
       "589        1\n",
       "330        1\n",
       "Name: day_diff, Length: 290, dtype: int64"
      ]
     },
     "execution_count": 20,
     "metadata": {},
     "output_type": "execute_result"
    }
   ],
   "source": [
    "cd_test[\"day_diff\"].value_counts()"
   ]
  },
  {
   "cell_type": "code",
   "execution_count": 21,
   "metadata": {},
   "outputs": [
    {
     "data": {
      "text/plain": [
       "No     376990\n",
       "Yes    101431\n",
       "Name: Consumer_disputed?, dtype: int64"
      ]
     },
     "execution_count": 21,
     "metadata": {},
     "output_type": "execute_result"
    }
   ],
   "source": [
    "cd_train[\"Consumer_disputed?\"].value_counts()"
   ]
  },
  {
   "cell_type": "code",
   "execution_count": 22,
   "metadata": {},
   "outputs": [],
   "source": [
    "cd_train[\"Consumer_disputed?\"]=np.where(cd_train[\"Consumer_disputed?\"]==\"Yes\",1,0)"
   ]
  },
  {
   "cell_type": "code",
   "execution_count": 23,
   "metadata": {},
   "outputs": [
    {
     "data": {
      "text/plain": [
       "0    376990\n",
       "1    101431\n",
       "Name: Consumer_disputed?, dtype: int64"
      ]
     },
     "execution_count": 23,
     "metadata": {},
     "output_type": "execute_result"
    }
   ],
   "source": [
    "cd_train[\"Consumer_disputed?\"].value_counts()"
   ]
  },
  {
   "cell_type": "code",
   "execution_count": 24,
   "metadata": {},
   "outputs": [
    {
     "data": {
      "text/plain": [
       "Mortgage                   156175\n",
       "Debt collection             86544\n",
       "Credit reporting            81115\n",
       "Credit card                 57358\n",
       "Bank account or service     54403\n",
       "Consumer Loan               18599\n",
       "Student loan                14918\n",
       "Money transfers              3349\n",
       "Payday loan                  3219\n",
       "Prepaid card                 2226\n",
       "Other financial service       507\n",
       "Virtual currency                8\n",
       "Name: Product, dtype: int64"
      ]
     },
     "execution_count": 24,
     "metadata": {},
     "output_type": "execute_result"
    }
   ],
   "source": [
    "cd_train[\"Product\"].value_counts() #ohe"
   ]
  },
  {
   "cell_type": "code",
   "execution_count": 25,
   "metadata": {},
   "outputs": [],
   "source": [
    "probs=round(cd_train.groupby(\"Product\")[\"Consumer_disputed?\"].mean(),2).to_dict()"
   ]
  },
  {
   "cell_type": "code",
   "execution_count": 26,
   "metadata": {},
   "outputs": [
    {
     "data": {
      "text/plain": [
       "dict_items([('Bank account or service', 0.2), ('Consumer Loan', 0.24), ('Credit card', 0.22), ('Credit reporting', 0.18), ('Debt collection', 0.2), ('Money transfers', 0.15), ('Mortgage', 0.24), ('Other financial service', 0.23), ('Payday loan', 0.17), ('Prepaid card', 0.15), ('Student loan', 0.21), ('Virtual currency', 0.38)])"
      ]
     },
     "execution_count": 26,
     "metadata": {},
     "output_type": "execute_result"
    }
   ],
   "source": [
    "probs.items()"
   ]
  },
  {
   "cell_type": "code",
   "execution_count": 27,
   "metadata": {},
   "outputs": [],
   "source": [
    "def mapping_func(df,x,y,prefix=\"pro_\"):\n",
    "    probs=round(cd_train.groupby(x)[y].mean(),2).to_dict()\n",
    "    mapping_dict=dict()\n",
    "    for k,v in probs.items():\n",
    "        mapping_dict[k]=prefix+str(v).replace(\".\",\"\")\n",
    "    return mapping_dict"
   ]
  },
  {
   "cell_type": "code",
   "execution_count": 28,
   "metadata": {},
   "outputs": [],
   "source": [
    "cd_train=cd_train.assign(\n",
    "    Product=cd_train[\"Product\"].map(mapping_func(cd_train,\"Product\",\"Consumer_disputed?\",\"prod_\")),\n",
    "    Sub_product=cd_train[\"Sub_product\"].\n",
    "    map(mapping_func(cd_train,\"Sub_product\",\"Consumer_disputed?\",\"subprod_\")),\n",
    "    Issue=cd_train[\"Issue\"].map(mapping_func(cd_train,\"Issue\",\"Consumer_disputed?\",\"Issue_\")),\n",
    "    Company_public_response=cd_train[\"Company_public_response\"].\n",
    "    map(mapping_func(cd_train,\"Company_public_response\",\"Consumer_disputed?\",\"Cps_\")),\n",
    "    Sub_issue=cd_train[\"Sub_issue\"].map(mapping_func(cd_train,\"Sub_issue\",\"Consumer_disputed?\",\"Sub_iss_\")),\n",
    "    State=cd_train[\"State\"].map(mapping_func(cd_train,\"State\",\"Consumer_disputed?\",\"State_\")))\n"
   ]
  },
  {
   "cell_type": "code",
   "execution_count": 29,
   "metadata": {},
   "outputs": [
    {
     "data": {
      "text/plain": [
       "prod_024    174774\n",
       "prod_02     140947\n",
       "prod_018     81115\n",
       "prod_022     57358\n",
       "prod_021     14918\n",
       "prod_015      5575\n",
       "prod_017      3219\n",
       "prod_023       507\n",
       "prod_038         8\n",
       "Name: Product, dtype: int64"
      ]
     },
     "execution_count": 29,
     "metadata": {},
     "output_type": "execute_result"
    }
   ],
   "source": [
    "cd_train[\"Product\"].value_counts()"
   ]
  },
  {
   "cell_type": "code",
   "execution_count": 30,
   "metadata": {},
   "outputs": [],
   "source": [
    "#cd_train[\"Sub_product\"].value_counts()"
   ]
  },
  {
   "cell_type": "code",
   "execution_count": 32,
   "metadata": {
    "collapsed": false,
    "jupyter": {
     "outputs_hidden": false
    }
   },
   "outputs": [
    {
     "data": {
      "text/html": [
       "<div>\n",
       "<style scoped>\n",
       "    .dataframe tbody tr th:only-of-type {\n",
       "        vertical-align: middle;\n",
       "    }\n",
       "\n",
       "    .dataframe tbody tr th {\n",
       "        vertical-align: top;\n",
       "    }\n",
       "\n",
       "    .dataframe thead th {\n",
       "        text-align: right;\n",
       "    }\n",
       "</style>\n",
       "<table border=\"1\" class=\"dataframe\">\n",
       "  <thead>\n",
       "    <tr style=\"text-align: right;\">\n",
       "      <th></th>\n",
       "      <th>Product</th>\n",
       "      <th>Sub_product</th>\n",
       "      <th>Issue</th>\n",
       "      <th>Sub_issue</th>\n",
       "      <th>Consumer_complaint_narrative</th>\n",
       "      <th>Company_public_response</th>\n",
       "      <th>Company</th>\n",
       "      <th>State</th>\n",
       "      <th>ZIP_code</th>\n",
       "      <th>Tags</th>\n",
       "      <th>Consumer_consent_provided?</th>\n",
       "      <th>Submitted_via</th>\n",
       "      <th>Company_response_to_consumer</th>\n",
       "      <th>Timely_response?</th>\n",
       "      <th>Consumer_disputed?</th>\n",
       "      <th>Complaint_ID</th>\n",
       "      <th>day_diff</th>\n",
       "    </tr>\n",
       "  </thead>\n",
       "  <tbody>\n",
       "    <tr>\n",
       "      <th>0</th>\n",
       "      <td>prod_022</td>\n",
       "      <td>NaN</td>\n",
       "      <td>Issue_019</td>\n",
       "      <td>NaN</td>\n",
       "      <td>NaN</td>\n",
       "      <td>NaN</td>\n",
       "      <td>Wells Fargo &amp; Company</td>\n",
       "      <td>State_021</td>\n",
       "      <td>48342</td>\n",
       "      <td>Older American</td>\n",
       "      <td>NaN</td>\n",
       "      <td>Web</td>\n",
       "      <td>Closed with explanation</td>\n",
       "      <td>Yes</td>\n",
       "      <td>0</td>\n",
       "      <td>856103</td>\n",
       "      <td>1</td>\n",
       "    </tr>\n",
       "    <tr>\n",
       "      <th>1</th>\n",
       "      <td>prod_02</td>\n",
       "      <td>subprod_027</td>\n",
       "      <td>Issue_021</td>\n",
       "      <td>NaN</td>\n",
       "      <td>NaN</td>\n",
       "      <td>NaN</td>\n",
       "      <td>Santander Bank US</td>\n",
       "      <td>State_021</td>\n",
       "      <td>18042</td>\n",
       "      <td>NaN</td>\n",
       "      <td>NaN</td>\n",
       "      <td>Referral</td>\n",
       "      <td>Closed</td>\n",
       "      <td>Yes</td>\n",
       "      <td>0</td>\n",
       "      <td>1034666</td>\n",
       "      <td>6</td>\n",
       "    </tr>\n",
       "    <tr>\n",
       "      <th>2</th>\n",
       "      <td>prod_018</td>\n",
       "      <td>NaN</td>\n",
       "      <td>Issue_016</td>\n",
       "      <td>Sub_iss_014</td>\n",
       "      <td>NaN</td>\n",
       "      <td>NaN</td>\n",
       "      <td>Equifax</td>\n",
       "      <td>State_022</td>\n",
       "      <td>92427</td>\n",
       "      <td>NaN</td>\n",
       "      <td>NaN</td>\n",
       "      <td>Referral</td>\n",
       "      <td>Closed with non-monetary relief</td>\n",
       "      <td>Yes</td>\n",
       "      <td>0</td>\n",
       "      <td>756363</td>\n",
       "      <td>21</td>\n",
       "    </tr>\n",
       "    <tr>\n",
       "      <th>3</th>\n",
       "      <td>prod_022</td>\n",
       "      <td>NaN</td>\n",
       "      <td>Issue_019</td>\n",
       "      <td>NaN</td>\n",
       "      <td>My credit card statement from US Bank, XXXX. X...</td>\n",
       "      <td>Cps_019</td>\n",
       "      <td>U.S. Bancorp</td>\n",
       "      <td>State_021</td>\n",
       "      <td>305XX</td>\n",
       "      <td>Older American</td>\n",
       "      <td>Consent provided</td>\n",
       "      <td>Web</td>\n",
       "      <td>Closed with monetary relief</td>\n",
       "      <td>Yes</td>\n",
       "      <td>0</td>\n",
       "      <td>1474177</td>\n",
       "      <td>0</td>\n",
       "    </tr>\n",
       "  </tbody>\n",
       "</table>\n",
       "</div>"
      ],
      "text/plain": [
       "    Product  Sub_product      Issue    Sub_issue  \\\n",
       "0  prod_022          NaN  Issue_019          NaN   \n",
       "1   prod_02  subprod_027  Issue_021          NaN   \n",
       "2  prod_018          NaN  Issue_016  Sub_iss_014   \n",
       "3  prod_022          NaN  Issue_019          NaN   \n",
       "\n",
       "                        Consumer_complaint_narrative Company_public_response  \\\n",
       "0                                                NaN                     NaN   \n",
       "1                                                NaN                     NaN   \n",
       "2                                                NaN                     NaN   \n",
       "3  My credit card statement from US Bank, XXXX. X...                 Cps_019   \n",
       "\n",
       "                 Company      State ZIP_code            Tags  \\\n",
       "0  Wells Fargo & Company  State_021    48342  Older American   \n",
       "1      Santander Bank US  State_021    18042             NaN   \n",
       "2                Equifax  State_022    92427             NaN   \n",
       "3           U.S. Bancorp  State_021    305XX  Older American   \n",
       "\n",
       "  Consumer_consent_provided? Submitted_via     Company_response_to_consumer  \\\n",
       "0                        NaN           Web          Closed with explanation   \n",
       "1                        NaN      Referral                           Closed   \n",
       "2                        NaN      Referral  Closed with non-monetary relief   \n",
       "3           Consent provided           Web      Closed with monetary relief   \n",
       "\n",
       "  Timely_response?  Consumer_disputed?  Complaint_ID  day_diff  \n",
       "0              Yes                   0        856103         1  \n",
       "1              Yes                   0       1034666         6  \n",
       "2              Yes                   0        756363        21  \n",
       "3              Yes                   0       1474177         0  "
      ]
     },
     "execution_count": 32,
     "metadata": {},
     "output_type": "execute_result"
    }
   ],
   "source": [
    "cd_train.head(4)"
   ]
  },
  {
   "cell_type": "code",
   "execution_count": 33,
   "metadata": {
    "collapsed": false,
    "jupyter": {
     "outputs_hidden": false
    }
   },
   "outputs": [
    {
     "data": {
      "text/plain": [
       "Product                              9\n",
       "Sub_product                         23\n",
       "Issue                               24\n",
       "Sub_issue                           23\n",
       "Consumer_complaint_narrative     74019\n",
       "Company_public_response              8\n",
       "Company                           3276\n",
       "State                               15\n",
       "ZIP_code                         25962\n",
       "Tags                                 3\n",
       "Consumer_consent_provided?           4\n",
       "Submitted_via                        6\n",
       "Company_response_to_consumer         7\n",
       "Timely_response?                     2\n",
       "Consumer_disputed?                   2\n",
       "Complaint_ID                    478421\n",
       "day_diff                           398\n",
       "dtype: int64"
      ]
     },
     "execution_count": 33,
     "metadata": {},
     "output_type": "execute_result"
    }
   ],
   "source": [
    "# for col in cd_train.select_dtypes(['object']).columns:\n",
    "#     print(col,':',cd_train[col].nunique())\n",
    "cd_train.nunique(axis=0,dropna=True)"
   ]
  },
  {
   "cell_type": "code",
   "execution_count": 34,
   "metadata": {},
   "outputs": [
    {
     "data": {
      "text/plain": [
       "Older American                   39064\n",
       "Servicemember                    22592\n",
       "Older American, Servicemember     5550\n",
       "Name: Tags, dtype: int64"
      ]
     },
     "execution_count": 34,
     "metadata": {},
     "output_type": "execute_result"
    }
   ],
   "source": [
    "cd_train[\"Tags\"].value_counts() #ohe"
   ]
  },
  {
   "cell_type": "code",
   "execution_count": 35,
   "metadata": {},
   "outputs": [
    {
     "data": {
      "text/plain": [
       "Web            313916\n",
       "Referral        91352\n",
       "Phone           34417\n",
       "Postal mail     31448\n",
       "Fax              7032\n",
       "Email             256\n",
       "Name: Submitted_via, dtype: int64"
      ]
     },
     "execution_count": 35,
     "metadata": {},
     "output_type": "execute_result"
    }
   ],
   "source": [
    "cd_train[\"Submitted_via\"].value_counts() #ohe"
   ]
  },
  {
   "cell_type": "code",
   "execution_count": 36,
   "metadata": {},
   "outputs": [
    {
     "data": {
      "text/plain": [
       "Consent provided        75095\n",
       "Consent not provided    56147\n",
       "Other                    4242\n",
       "Consent withdrawn           3\n",
       "Name: Consumer_consent_provided?, dtype: int64"
      ]
     },
     "execution_count": 36,
     "metadata": {},
     "output_type": "execute_result"
    }
   ],
   "source": [
    "cd_train[\"Consumer_consent_provided?\"].value_counts()"
   ]
  },
  {
   "cell_type": "code",
   "execution_count": 37,
   "metadata": {},
   "outputs": [],
   "source": [
    "cd_train[\"Consumer_consent_provided?\"]=cd_train[\"Consumer_consent_provided?\"].str.replace(\" \",\"_\")"
   ]
  },
  {
   "cell_type": "code",
   "execution_count": 38,
   "metadata": {},
   "outputs": [
    {
     "data": {
      "text/plain": [
       "Consent_provided        75095\n",
       "Consent_not_provided    56147\n",
       "Other                    4242\n",
       "Consent_withdrawn           3\n",
       "Name: Consumer_consent_provided?, dtype: int64"
      ]
     },
     "execution_count": 38,
     "metadata": {},
     "output_type": "execute_result"
    }
   ],
   "source": [
    "cd_train[\"Consumer_consent_provided?\"].value_counts() #ohe"
   ]
  },
  {
   "cell_type": "code",
   "execution_count": 39,
   "metadata": {},
   "outputs": [
    {
     "data": {
      "text/plain": [
       "Closed_with_explanation            354310\n",
       "Closed_with_non-monetary_relief     61491\n",
       "Closed_with_monetary_relief         32925\n",
       "Closed_without_relief               14145\n",
       "Closed                              11365\n",
       "Closed_with_relief                   4184\n",
       "Untimely_response                       1\n",
       "Name: Company_response_to_consumer, dtype: int64"
      ]
     },
     "execution_count": 39,
     "metadata": {},
     "output_type": "execute_result"
    }
   ],
   "source": [
    "cd_train[\"Company_response_to_consumer\"]=cd_train[\"Company_response_to_consumer\"].str.replace(\" \",\"_\")\n",
    "cd_train[\"Company_response_to_consumer\"].value_counts() #ohe"
   ]
  },
  {
   "cell_type": "code",
   "execution_count": 40,
   "metadata": {},
   "outputs": [
    {
     "data": {
      "text/plain": [
       "Yes    470277\n",
       "No       8144\n",
       "Name: Timely_response?, dtype: int64"
      ]
     },
     "execution_count": 40,
     "metadata": {},
     "output_type": "execute_result"
    }
   ],
   "source": [
    "cd_train[\"Timely_response?\"].value_counts() #ohe"
   ]
  },
  {
   "cell_type": "code",
   "execution_count": 41,
   "metadata": {},
   "outputs": [],
   "source": [
    "#dropping variables that have many unique values\n",
    "cd_train.drop([\"Consumer_complaint_narrative\",\"Company\",\"ZIP_code\",\"Complaint_ID\"],1,inplace=True)"
   ]
  },
  {
   "cell_type": "code",
   "execution_count": 42,
   "metadata": {},
   "outputs": [
    {
     "data": {
      "text/html": [
       "<div>\n",
       "<style scoped>\n",
       "    .dataframe tbody tr th:only-of-type {\n",
       "        vertical-align: middle;\n",
       "    }\n",
       "\n",
       "    .dataframe tbody tr th {\n",
       "        vertical-align: top;\n",
       "    }\n",
       "\n",
       "    .dataframe thead th {\n",
       "        text-align: right;\n",
       "    }\n",
       "</style>\n",
       "<table border=\"1\" class=\"dataframe\">\n",
       "  <thead>\n",
       "    <tr style=\"text-align: right;\">\n",
       "      <th></th>\n",
       "      <th>Product</th>\n",
       "      <th>Sub_product</th>\n",
       "      <th>Issue</th>\n",
       "      <th>Sub_issue</th>\n",
       "      <th>Company_public_response</th>\n",
       "      <th>State</th>\n",
       "      <th>Tags</th>\n",
       "      <th>Consumer_consent_provided?</th>\n",
       "      <th>Submitted_via</th>\n",
       "      <th>Company_response_to_consumer</th>\n",
       "      <th>Timely_response?</th>\n",
       "      <th>Consumer_disputed?</th>\n",
       "      <th>day_diff</th>\n",
       "    </tr>\n",
       "  </thead>\n",
       "  <tbody>\n",
       "    <tr>\n",
       "      <th>0</th>\n",
       "      <td>prod_022</td>\n",
       "      <td>NaN</td>\n",
       "      <td>Issue_019</td>\n",
       "      <td>NaN</td>\n",
       "      <td>NaN</td>\n",
       "      <td>State_021</td>\n",
       "      <td>Older American</td>\n",
       "      <td>NaN</td>\n",
       "      <td>Web</td>\n",
       "      <td>Closed_with_explanation</td>\n",
       "      <td>Yes</td>\n",
       "      <td>0</td>\n",
       "      <td>1</td>\n",
       "    </tr>\n",
       "    <tr>\n",
       "      <th>1</th>\n",
       "      <td>prod_02</td>\n",
       "      <td>subprod_027</td>\n",
       "      <td>Issue_021</td>\n",
       "      <td>NaN</td>\n",
       "      <td>NaN</td>\n",
       "      <td>State_021</td>\n",
       "      <td>NaN</td>\n",
       "      <td>NaN</td>\n",
       "      <td>Referral</td>\n",
       "      <td>Closed</td>\n",
       "      <td>Yes</td>\n",
       "      <td>0</td>\n",
       "      <td>6</td>\n",
       "    </tr>\n",
       "  </tbody>\n",
       "</table>\n",
       "</div>"
      ],
      "text/plain": [
       "    Product  Sub_product      Issue Sub_issue Company_public_response  \\\n",
       "0  prod_022          NaN  Issue_019       NaN                     NaN   \n",
       "1   prod_02  subprod_027  Issue_021       NaN                     NaN   \n",
       "\n",
       "       State            Tags Consumer_consent_provided? Submitted_via  \\\n",
       "0  State_021  Older American                        NaN           Web   \n",
       "1  State_021             NaN                        NaN      Referral   \n",
       "\n",
       "  Company_response_to_consumer Timely_response?  Consumer_disputed?  day_diff  \n",
       "0      Closed_with_explanation              Yes                   0         1  \n",
       "1                       Closed              Yes                   0         6  "
      ]
     },
     "execution_count": 42,
     "metadata": {},
     "output_type": "execute_result"
    }
   ],
   "source": [
    "cd_train.head(2)"
   ]
  },
  {
   "cell_type": "code",
   "execution_count": 43,
   "metadata": {},
   "outputs": [
    {
     "data": {
      "text/plain": [
       "Product                              0\n",
       "Sub_product                     138473\n",
       "Issue                                0\n",
       "Sub_issue                       292625\n",
       "Company_public_response         388029\n",
       "State                             3839\n",
       "Tags                            411215\n",
       "Consumer_consent_provided?      342934\n",
       "Submitted_via                        0\n",
       "Company_response_to_consumer         0\n",
       "Timely_response?                     0\n",
       "Consumer_disputed?                   0\n",
       "day_diff                             0\n",
       "dtype: int64"
      ]
     },
     "execution_count": 43,
     "metadata": {},
     "output_type": "execute_result"
    }
   ],
   "source": [
    "cd_train.isnull().sum() #SimpleImputer"
   ]
  },
  {
   "cell_type": "code",
   "execution_count": 44,
   "metadata": {
    "collapsed": false,
    "jupyter": {
     "outputs_hidden": false
    }
   },
   "outputs": [
    {
     "data": {
      "text/plain": [
       "Product                          0.000000\n",
       "Sub_product                     28.943755\n",
       "Issue                            0.000000\n",
       "Sub_issue                       61.164748\n",
       "Company_public_response         81.106181\n",
       "State                            0.802431\n",
       "Tags                            85.952540\n",
       "Consumer_consent_provided?      71.680382\n",
       "Submitted_via                    0.000000\n",
       "Company_response_to_consumer     0.000000\n",
       "Timely_response?                 0.000000\n",
       "Consumer_disputed?               0.000000\n",
       "day_diff                         0.000000\n",
       "dtype: float64"
      ]
     },
     "execution_count": 44,
     "metadata": {},
     "output_type": "execute_result"
    }
   ],
   "source": [
    "cd_train.isnull().sum()*100/len(cd_train) #percentage"
   ]
  },
  {
   "cell_type": "code",
   "execution_count": 45,
   "metadata": {},
   "outputs": [
    {
     "data": {
      "text/plain": [
       "Product                          0.000000\n",
       "Sub_product                     29.055399\n",
       "Issue                            0.000000\n",
       "Sub_issue                       61.083892\n",
       "Consumer_complaint_narrative    84.484892\n",
       "Company_public_response         80.957477\n",
       "Company                          0.000000\n",
       "State                            0.773373\n",
       "ZIP_code                         0.774209\n",
       "Tags                            85.894520\n",
       "Consumer_consent_provided?      71.687039\n",
       "Submitted_via                    0.000836\n",
       "Company_response_to_consumer     0.000000\n",
       "Timely_response?                 0.000000\n",
       "Complaint_ID                     0.000000\n",
       "day_diff                         0.000000\n",
       "dtype: float64"
      ]
     },
     "execution_count": 45,
     "metadata": {},
     "output_type": "execute_result"
    }
   ],
   "source": [
    "cd_test.isnull().sum()*100/len(cd_test)"
   ]
  },
  {
   "cell_type": "code",
   "execution_count": 48,
   "metadata": {},
   "outputs": [
    {
     "data": {
      "text/plain": [
       "Product                         object\n",
       "Sub_product                     object\n",
       "Issue                           object\n",
       "Sub_issue                       object\n",
       "Company_public_response         object\n",
       "State                           object\n",
       "Tags                            object\n",
       "Consumer_consent_provided?      object\n",
       "Submitted_via                   object\n",
       "Company_response_to_consumer    object\n",
       "Timely_response?                object\n",
       "Consumer_disputed?               int32\n",
       "day_diff                         int64\n",
       "dtype: object"
      ]
     },
     "execution_count": 48,
     "metadata": {},
     "output_type": "execute_result"
    }
   ],
   "source": [
    "cd_train.dtypes"
   ]
  },
  {
   "cell_type": "markdown",
   "metadata": {},
   "source": [
    "Train Test split"
   ]
  },
  {
   "cell_type": "code",
   "execution_count": 49,
   "metadata": {},
   "outputs": [],
   "source": [
    "x_train,x_test= train_test_split(cd_train,test_size=.2,random_state=1)"
   ]
  },
  {
   "cell_type": "code",
   "execution_count": 50,
   "metadata": {},
   "outputs": [],
   "source": [
    "x_train1=x_train.drop([\"Consumer_disputed?\"],1)\n",
    "y_train1=x_train[\"Consumer_disputed?\"]"
   ]
  },
  {
   "cell_type": "code",
   "execution_count": 51,
   "metadata": {},
   "outputs": [],
   "source": [
    "x_test1=x_test.drop([\"Consumer_disputed?\"],1)\n",
    "y_test1=x_test[\"Consumer_disputed?\"]"
   ]
  },
  {
   "cell_type": "code",
   "execution_count": 52,
   "metadata": {},
   "outputs": [],
   "source": [
    "num_cols=x_train1.select_dtypes(np.number).columns"
   ]
  },
  {
   "cell_type": "code",
   "execution_count": 53,
   "metadata": {},
   "outputs": [],
   "source": [
    "char_cols=x_train1.select_dtypes(object).columns"
   ]
  },
  {
   "cell_type": "code",
   "execution_count": 54,
   "metadata": {},
   "outputs": [],
   "source": [
    "#pipeline works sequentially.. \n",
    "pipe_num= make_pipeline(SimpleImputer(strategy=\"median\"),StandardScaler())\n",
    "pipe_char=make_pipeline(SimpleImputer(strategy=\"constant\",fill_value=\"Missing\"),\n",
    "                       OneHotEncoder(handle_unknown=\"ignore\"))"
   ]
  },
  {
   "cell_type": "code",
   "execution_count": 55,
   "metadata": {},
   "outputs": [],
   "source": [
    "#transformer works parallely\n",
    "ctrans=make_column_transformer((pipe_num,num_cols),(pipe_char,char_cols))"
   ]
  },
  {
   "cell_type": "code",
   "execution_count": 56,
   "metadata": {},
   "outputs": [
    {
     "data": {
      "text/plain": [
       "<382736x131 sparse matrix of type '<class 'numpy.float64'>'\n",
       "\twith 4592832 stored elements in Compressed Sparse Row format>"
      ]
     },
     "execution_count": 56,
     "metadata": {},
     "output_type": "execute_result"
    }
   ],
   "source": [
    "ctrans.fit_transform(x_train1)"
   ]
  },
  {
   "cell_type": "code",
   "execution_count": 57,
   "metadata": {},
   "outputs": [
    {
     "data": {
      "text/plain": [
       "<119606x131 sparse matrix of type '<class 'numpy.float64'>'\n",
       "\twith 773708 stored elements in Compressed Sparse Row format>"
      ]
     },
     "execution_count": 57,
     "metadata": {},
     "output_type": "execute_result"
    }
   ],
   "source": [
    "ctrans.transform(cd_test)"
   ]
  },
  {
   "cell_type": "markdown",
   "metadata": {},
   "source": [
    "### Logistic Regression"
   ]
  },
  {
   "cell_type": "code",
   "execution_count": null,
   "metadata": {},
   "outputs": [],
   "source": []
  },
  {
   "cell_type": "code",
   "execution_count": 58,
   "metadata": {},
   "outputs": [],
   "source": [
    "logreg=LogisticRegression(\n",
    "   solver=\"liblinear\",\n",
    "    penalty=\"l1\",\n",
    "    class_weight=\"balanced\",\n",
    "    random_state=1,\n",
    "    max_iter=800,)"
   ]
  },
  {
   "cell_type": "code",
   "execution_count": 59,
   "metadata": {},
   "outputs": [
    {
     "data": {
      "text/plain": [
       "LogisticRegression(C=1.0, class_weight='balanced', dual=False,\n",
       "                   fit_intercept=True, intercept_scaling=1, l1_ratio=None,\n",
       "                   max_iter=800, multi_class='auto', n_jobs=None, penalty='l1',\n",
       "                   random_state=1, solver='liblinear', tol=0.0001, verbose=0,\n",
       "                   warm_start=False)"
      ]
     },
     "execution_count": 59,
     "metadata": {},
     "output_type": "execute_result"
    }
   ],
   "source": [
    "logreg"
   ]
  },
  {
   "cell_type": "code",
   "execution_count": 60,
   "metadata": {},
   "outputs": [],
   "source": [
    "pipe=make_pipeline(ctrans,logreg)"
   ]
  },
  {
   "cell_type": "code",
   "execution_count": 61,
   "metadata": {},
   "outputs": [
    {
     "data": {
      "text/plain": [
       "Pipeline(memory=None,\n",
       "         steps=[('columntransformer',\n",
       "                 ColumnTransformer(n_jobs=None, remainder='drop',\n",
       "                                   sparse_threshold=0.3,\n",
       "                                   transformer_weights=None,\n",
       "                                   transformers=[('pipeline-1',\n",
       "                                                  Pipeline(memory=None,\n",
       "                                                           steps=[('simpleimputer',\n",
       "                                                                   SimpleImputer(add_indicator=False,\n",
       "                                                                                 copy=True,\n",
       "                                                                                 fill_value=None,\n",
       "                                                                                 missing_values=nan,\n",
       "                                                                                 strategy='median',\n",
       "                                                                                 verbose=0)),\n",
       "                                                                  ('standardscaler',\n",
       "                                                                   Standard...\n",
       "       'Company_response_to_consumer', 'Timely_response?'],\n",
       "      dtype='object'))],\n",
       "                                   verbose=False)),\n",
       "                ('logisticregression',\n",
       "                 LogisticRegression(C=1.0, class_weight='balanced', dual=False,\n",
       "                                    fit_intercept=True, intercept_scaling=1,\n",
       "                                    l1_ratio=None, max_iter=800,\n",
       "                                    multi_class='auto', n_jobs=None,\n",
       "                                    penalty='l1', random_state=1,\n",
       "                                    solver='liblinear', tol=0.0001, verbose=0,\n",
       "                                    warm_start=False))],\n",
       "         verbose=False)"
      ]
     },
     "execution_count": 61,
     "metadata": {},
     "output_type": "execute_result"
    }
   ],
   "source": [
    "pipe"
   ]
  },
  {
   "cell_type": "code",
   "execution_count": 62,
   "metadata": {},
   "outputs": [
    {
     "data": {
      "text/plain": [
       "Pipeline(memory=None,\n",
       "         steps=[('columntransformer',\n",
       "                 ColumnTransformer(n_jobs=None, remainder='drop',\n",
       "                                   sparse_threshold=0.3,\n",
       "                                   transformer_weights=None,\n",
       "                                   transformers=[('pipeline-1',\n",
       "                                                  Pipeline(memory=None,\n",
       "                                                           steps=[('simpleimputer',\n",
       "                                                                   SimpleImputer(add_indicator=False,\n",
       "                                                                                 copy=True,\n",
       "                                                                                 fill_value=None,\n",
       "                                                                                 missing_values=nan,\n",
       "                                                                                 strategy='median',\n",
       "                                                                                 verbose=0)),\n",
       "                                                                  ('standardscaler',\n",
       "                                                                   Standard...\n",
       "       'Company_response_to_consumer', 'Timely_response?'],\n",
       "      dtype='object'))],\n",
       "                                   verbose=False)),\n",
       "                ('logisticregression',\n",
       "                 LogisticRegression(C=1.0, class_weight='balanced', dual=False,\n",
       "                                    fit_intercept=True, intercept_scaling=1,\n",
       "                                    l1_ratio=None, max_iter=800,\n",
       "                                    multi_class='auto', n_jobs=None,\n",
       "                                    penalty='l1', random_state=1,\n",
       "                                    solver='liblinear', tol=0.0001, verbose=0,\n",
       "                                    warm_start=False))],\n",
       "         verbose=False)"
      ]
     },
     "execution_count": 62,
     "metadata": {},
     "output_type": "execute_result"
    }
   ],
   "source": [
    "pipe.fit(x_train1,y_train1)"
   ]
  },
  {
   "cell_type": "code",
   "execution_count": 63,
   "metadata": {},
   "outputs": [
    {
     "data": {
      "text/plain": [
       "array([1, 1, 1, ..., 0, 0, 1])"
      ]
     },
     "execution_count": 63,
     "metadata": {},
     "output_type": "execute_result"
    }
   ],
   "source": [
    "pipe.predict(x_train1)"
   ]
  },
  {
   "cell_type": "code",
   "execution_count": 64,
   "metadata": {},
   "outputs": [
    {
     "data": {
      "text/plain": [
       "array([0, 0, 1, ..., 1, 0, 0])"
      ]
     },
     "execution_count": 64,
     "metadata": {},
     "output_type": "execute_result"
    }
   ],
   "source": [
    "pipe.predict(x_test1)"
   ]
  },
  {
   "cell_type": "code",
   "execution_count": 65,
   "metadata": {},
   "outputs": [
    {
     "data": {
      "text/plain": [
       "0.6209888506242285"
      ]
     },
     "execution_count": 65,
     "metadata": {},
     "output_type": "execute_result"
    }
   ],
   "source": [
    "roc_auc_score(y_train1,pipe.predict_proba(x_train1)[:,1])"
   ]
  },
  {
   "cell_type": "code",
   "execution_count": 66,
   "metadata": {},
   "outputs": [
    {
     "data": {
      "text/plain": [
       "0.6205036820781602"
      ]
     },
     "execution_count": 66,
     "metadata": {},
     "output_type": "execute_result"
    }
   ],
   "source": [
    "roc_auc_score(y_test1,pipe.predict_proba(x_test1)[:,1])"
   ]
  },
  {
   "cell_type": "markdown",
   "metadata": {},
   "source": [
    "##### Now for whole data roc_auc_score"
   ]
  },
  {
   "cell_type": "code",
   "execution_count": 67,
   "metadata": {},
   "outputs": [
    {
     "data": {
      "text/plain": [
       "0.6209888506242285"
      ]
     },
     "execution_count": 67,
     "metadata": {},
     "output_type": "execute_result"
    }
   ],
   "source": [
    "roc_auc_score(y_train1,pipe.predict_proba(x_train)[:,1])"
   ]
  },
  {
   "cell_type": "code",
   "execution_count": 68,
   "metadata": {},
   "outputs": [
    {
     "data": {
      "text/plain": [
       "0.6205036820781602"
      ]
     },
     "execution_count": 68,
     "metadata": {},
     "output_type": "execute_result"
    }
   ],
   "source": [
    "roc_auc_score(y_test1,pipe.predict_proba(x_test)[:,1])"
   ]
  },
  {
   "cell_type": "code",
   "execution_count": 69,
   "metadata": {},
   "outputs": [
    {
     "data": {
      "text/plain": [
       "array([1, 1, 1, ..., 0, 0, 1])"
      ]
     },
     "execution_count": 69,
     "metadata": {},
     "output_type": "execute_result"
    }
   ],
   "source": [
    "pipe.predict(cd_test)"
   ]
  },
  {
   "cell_type": "code",
   "execution_count": 70,
   "metadata": {},
   "outputs": [],
   "source": [
    "submission=pipe.predict(cd_test)"
   ]
  },
  {
   "cell_type": "code",
   "execution_count": 72,
   "metadata": {},
   "outputs": [],
   "source": [
    "submission=pd.DataFrame(data=submission)"
   ]
  },
  {
   "cell_type": "code",
   "execution_count": 73,
   "metadata": {},
   "outputs": [
    {
     "data": {
      "text/plain": [
       "pandas.core.frame.DataFrame"
      ]
     },
     "execution_count": 73,
     "metadata": {},
     "output_type": "execute_result"
    }
   ],
   "source": [
    "type(submission)"
   ]
  },
  {
   "cell_type": "code",
   "execution_count": 74,
   "metadata": {},
   "outputs": [
    {
     "data": {
      "text/html": [
       "<div>\n",
       "<style scoped>\n",
       "    .dataframe tbody tr th:only-of-type {\n",
       "        vertical-align: middle;\n",
       "    }\n",
       "\n",
       "    .dataframe tbody tr th {\n",
       "        vertical-align: top;\n",
       "    }\n",
       "\n",
       "    .dataframe thead th {\n",
       "        text-align: right;\n",
       "    }\n",
       "</style>\n",
       "<table border=\"1\" class=\"dataframe\">\n",
       "  <thead>\n",
       "    <tr style=\"text-align: right;\">\n",
       "      <th></th>\n",
       "      <th>0</th>\n",
       "    </tr>\n",
       "  </thead>\n",
       "  <tbody>\n",
       "    <tr>\n",
       "      <th>0</th>\n",
       "      <td>1</td>\n",
       "    </tr>\n",
       "    <tr>\n",
       "      <th>1</th>\n",
       "      <td>1</td>\n",
       "    </tr>\n",
       "    <tr>\n",
       "      <th>2</th>\n",
       "      <td>1</td>\n",
       "    </tr>\n",
       "    <tr>\n",
       "      <th>3</th>\n",
       "      <td>0</td>\n",
       "    </tr>\n",
       "    <tr>\n",
       "      <th>4</th>\n",
       "      <td>1</td>\n",
       "    </tr>\n",
       "    <tr>\n",
       "      <th>...</th>\n",
       "      <td>...</td>\n",
       "    </tr>\n",
       "    <tr>\n",
       "      <th>119601</th>\n",
       "      <td>1</td>\n",
       "    </tr>\n",
       "    <tr>\n",
       "      <th>119602</th>\n",
       "      <td>1</td>\n",
       "    </tr>\n",
       "    <tr>\n",
       "      <th>119603</th>\n",
       "      <td>0</td>\n",
       "    </tr>\n",
       "    <tr>\n",
       "      <th>119604</th>\n",
       "      <td>0</td>\n",
       "    </tr>\n",
       "    <tr>\n",
       "      <th>119605</th>\n",
       "      <td>1</td>\n",
       "    </tr>\n",
       "  </tbody>\n",
       "</table>\n",
       "<p>119606 rows × 1 columns</p>\n",
       "</div>"
      ],
      "text/plain": [
       "        0\n",
       "0       1\n",
       "1       1\n",
       "2       1\n",
       "3       0\n",
       "4       1\n",
       "...    ..\n",
       "119601  1\n",
       "119602  1\n",
       "119603  0\n",
       "119604  0\n",
       "119605  1\n",
       "\n",
       "[119606 rows x 1 columns]"
      ]
     },
     "execution_count": 74,
     "metadata": {},
     "output_type": "execute_result"
    }
   ],
   "source": [
    "submission"
   ]
  },
  {
   "cell_type": "code",
   "execution_count": 75,
   "metadata": {},
   "outputs": [],
   "source": [
    "submission.columns=[\"Consumer disputed?\"]"
   ]
  },
  {
   "cell_type": "code",
   "execution_count": 76,
   "metadata": {},
   "outputs": [],
   "source": [
    "submission[\"Consumer disputed?\"]=np.where(submission[\"Consumer disputed?\"]==1,\"Yes\",\"No\")"
   ]
  },
  {
   "cell_type": "code",
   "execution_count": 77,
   "metadata": {},
   "outputs": [],
   "source": [
    "submission[\"Complaint ID\"]=cd_test[\"Complaint_ID\"]"
   ]
  },
  {
   "cell_type": "code",
   "execution_count": 78,
   "metadata": {},
   "outputs": [],
   "source": [
    "submission=submission[[\"Complaint ID\",\"Consumer disputed?\"]]"
   ]
  },
  {
   "cell_type": "code",
   "execution_count": 79,
   "metadata": {},
   "outputs": [
    {
     "data": {
      "text/html": [
       "<div>\n",
       "<style scoped>\n",
       "    .dataframe tbody tr th:only-of-type {\n",
       "        vertical-align: middle;\n",
       "    }\n",
       "\n",
       "    .dataframe tbody tr th {\n",
       "        vertical-align: top;\n",
       "    }\n",
       "\n",
       "    .dataframe thead th {\n",
       "        text-align: right;\n",
       "    }\n",
       "</style>\n",
       "<table border=\"1\" class=\"dataframe\">\n",
       "  <thead>\n",
       "    <tr style=\"text-align: right;\">\n",
       "      <th></th>\n",
       "      <th>Complaint ID</th>\n",
       "      <th>Consumer disputed?</th>\n",
       "    </tr>\n",
       "  </thead>\n",
       "  <tbody>\n",
       "    <tr>\n",
       "      <th>0</th>\n",
       "      <td>675956</td>\n",
       "      <td>Yes</td>\n",
       "    </tr>\n",
       "    <tr>\n",
       "      <th>1</th>\n",
       "      <td>1858795</td>\n",
       "      <td>Yes</td>\n",
       "    </tr>\n",
       "    <tr>\n",
       "      <th>2</th>\n",
       "      <td>32637</td>\n",
       "      <td>Yes</td>\n",
       "    </tr>\n",
       "    <tr>\n",
       "      <th>3</th>\n",
       "      <td>1731374</td>\n",
       "      <td>No</td>\n",
       "    </tr>\n",
       "    <tr>\n",
       "      <th>4</th>\n",
       "      <td>501487</td>\n",
       "      <td>Yes</td>\n",
       "    </tr>\n",
       "    <tr>\n",
       "      <th>...</th>\n",
       "      <td>...</td>\n",
       "      <td>...</td>\n",
       "    </tr>\n",
       "    <tr>\n",
       "      <th>119601</th>\n",
       "      <td>153482</td>\n",
       "      <td>Yes</td>\n",
       "    </tr>\n",
       "    <tr>\n",
       "      <th>119602</th>\n",
       "      <td>2023523</td>\n",
       "      <td>Yes</td>\n",
       "    </tr>\n",
       "    <tr>\n",
       "      <th>119603</th>\n",
       "      <td>1413678</td>\n",
       "      <td>No</td>\n",
       "    </tr>\n",
       "    <tr>\n",
       "      <th>119604</th>\n",
       "      <td>732458</td>\n",
       "      <td>No</td>\n",
       "    </tr>\n",
       "    <tr>\n",
       "      <th>119605</th>\n",
       "      <td>1235226</td>\n",
       "      <td>Yes</td>\n",
       "    </tr>\n",
       "  </tbody>\n",
       "</table>\n",
       "<p>119606 rows × 2 columns</p>\n",
       "</div>"
      ],
      "text/plain": [
       "        Complaint ID Consumer disputed?\n",
       "0             675956                Yes\n",
       "1            1858795                Yes\n",
       "2              32637                Yes\n",
       "3            1731374                 No\n",
       "4             501487                Yes\n",
       "...              ...                ...\n",
       "119601        153482                Yes\n",
       "119602       2023523                Yes\n",
       "119603       1413678                 No\n",
       "119604        732458                 No\n",
       "119605       1235226                Yes\n",
       "\n",
       "[119606 rows x 2 columns]"
      ]
     },
     "execution_count": 79,
     "metadata": {},
     "output_type": "execute_result"
    }
   ],
   "source": [
    "submission"
   ]
  },
  {
   "cell_type": "code",
   "execution_count": 80,
   "metadata": {},
   "outputs": [],
   "source": [
    "submission.to_csv(\"submission1.csv\",index=False)"
   ]
  },
  {
   "cell_type": "code",
   "execution_count": null,
   "metadata": {},
   "outputs": [],
   "source": [
    "#cross_val_score(pipe, x_train1, y_train1, scoring=\"accuracy\")"
   ]
  },
  {
   "cell_type": "markdown",
   "metadata": {},
   "source": [
    "### Grid Search Cv"
   ]
  },
  {
   "cell_type": "code",
   "execution_count": 81,
   "metadata": {},
   "outputs": [],
   "source": [
    "params={}\n",
    "params[\"logisticregression__penalty\"]=[\"l1\",\"l2\"]\n",
    "params[\"logisticregression__C\"]=[.1,.01,1,10]"
   ]
  },
  {
   "cell_type": "code",
   "execution_count": 82,
   "metadata": {},
   "outputs": [],
   "source": [
    "logreg=LogisticRegression(solver=\"liblinear\",random_state=1)\n",
    "pipe=make_pipeline(ctrans,logreg)"
   ]
  },
  {
   "cell_type": "code",
   "execution_count": 83,
   "metadata": {},
   "outputs": [],
   "source": [
    "grid=GridSearchCV(pipe,params,cv=5,scoring=\"accuracy\")"
   ]
  },
  {
   "cell_type": "code",
   "execution_count": 84,
   "metadata": {},
   "outputs": [
    {
     "data": {
      "text/plain": [
       "GridSearchCV(cv=5, error_score=nan,\n",
       "             estimator=Pipeline(memory=None,\n",
       "                                steps=[('columntransformer',\n",
       "                                        ColumnTransformer(n_jobs=None,\n",
       "                                                          remainder='drop',\n",
       "                                                          sparse_threshold=0.3,\n",
       "                                                          transformer_weights=None,\n",
       "                                                          transformers=[('pipeline-1',\n",
       "                                                                         Pipeline(memory=None,\n",
       "                                                                                  steps=[('simpleimputer',\n",
       "                                                                                          SimpleImputer(add_indicator=False,\n",
       "                                                                                                        copy=True,\n",
       "                                                                                                        fill_value=None,\n",
       "                                                                                                        missing_values=nan,\n",
       "                                                                                                        strategy='me...\n",
       "                                                           max_iter=100,\n",
       "                                                           multi_class='auto',\n",
       "                                                           n_jobs=None,\n",
       "                                                           penalty='l2',\n",
       "                                                           random_state=1,\n",
       "                                                           solver='liblinear',\n",
       "                                                           tol=0.0001,\n",
       "                                                           verbose=0,\n",
       "                                                           warm_start=False))],\n",
       "                                verbose=False),\n",
       "             iid='deprecated', n_jobs=None,\n",
       "             param_grid={'logisticregression__C': [0.1, 0.01, 1, 10],\n",
       "                         'logisticregression__penalty': ['l1', 'l2']},\n",
       "             pre_dispatch='2*n_jobs', refit=True, return_train_score=False,\n",
       "             scoring='accuracy', verbose=0)"
      ]
     },
     "execution_count": 84,
     "metadata": {},
     "output_type": "execute_result"
    }
   ],
   "source": [
    "grid"
   ]
  },
  {
   "cell_type": "code",
   "execution_count": 85,
   "metadata": {},
   "outputs": [
    {
     "data": {
      "text/plain": [
       "GridSearchCV(cv=5, error_score=nan,\n",
       "             estimator=Pipeline(memory=None,\n",
       "                                steps=[('columntransformer',\n",
       "                                        ColumnTransformer(n_jobs=None,\n",
       "                                                          remainder='drop',\n",
       "                                                          sparse_threshold=0.3,\n",
       "                                                          transformer_weights=None,\n",
       "                                                          transformers=[('pipeline-1',\n",
       "                                                                         Pipeline(memory=None,\n",
       "                                                                                  steps=[('simpleimputer',\n",
       "                                                                                          SimpleImputer(add_indicator=False,\n",
       "                                                                                                        copy=True,\n",
       "                                                                                                        fill_value=None,\n",
       "                                                                                                        missing_values=nan,\n",
       "                                                                                                        strategy='me...\n",
       "                                                           max_iter=100,\n",
       "                                                           multi_class='auto',\n",
       "                                                           n_jobs=None,\n",
       "                                                           penalty='l2',\n",
       "                                                           random_state=1,\n",
       "                                                           solver='liblinear',\n",
       "                                                           tol=0.0001,\n",
       "                                                           verbose=0,\n",
       "                                                           warm_start=False))],\n",
       "                                verbose=False),\n",
       "             iid='deprecated', n_jobs=None,\n",
       "             param_grid={'logisticregression__C': [0.1, 0.01, 1, 10],\n",
       "                         'logisticregression__penalty': ['l1', 'l2']},\n",
       "             pre_dispatch='2*n_jobs', refit=True, return_train_score=False,\n",
       "             scoring='accuracy', verbose=0)"
      ]
     },
     "execution_count": 85,
     "metadata": {},
     "output_type": "execute_result"
    }
   ],
   "source": [
    "grid.fit(x_train1,y_train1)"
   ]
  },
  {
   "cell_type": "code",
   "execution_count": 86,
   "metadata": {},
   "outputs": [
    {
     "data": {
      "text/plain": [
       "0.6210998587592601"
      ]
     },
     "execution_count": 86,
     "metadata": {},
     "output_type": "execute_result"
    }
   ],
   "source": [
    "roc_auc_score(y_train1,grid.predict_proba(x_train1)[:,1])"
   ]
  },
  {
   "cell_type": "code",
   "execution_count": 87,
   "metadata": {},
   "outputs": [
    {
     "data": {
      "text/plain": [
       "0.6206961740333149"
      ]
     },
     "execution_count": 87,
     "metadata": {},
     "output_type": "execute_result"
    }
   ],
   "source": [
    "roc_auc_score(y_test1,grid.predict_proba(x_test1)[:,1])"
   ]
  },
  {
   "cell_type": "code",
   "execution_count": 88,
   "metadata": {},
   "outputs": [],
   "source": [
    "dfs=pd.DataFrame(grid.cv_results_)"
   ]
  },
  {
   "cell_type": "code",
   "execution_count": 89,
   "metadata": {},
   "outputs": [
    {
     "data": {
      "text/html": [
       "<div>\n",
       "<style scoped>\n",
       "    .dataframe tbody tr th:only-of-type {\n",
       "        vertical-align: middle;\n",
       "    }\n",
       "\n",
       "    .dataframe tbody tr th {\n",
       "        vertical-align: top;\n",
       "    }\n",
       "\n",
       "    .dataframe thead th {\n",
       "        text-align: right;\n",
       "    }\n",
       "</style>\n",
       "<table border=\"1\" class=\"dataframe\">\n",
       "  <thead>\n",
       "    <tr style=\"text-align: right;\">\n",
       "      <th></th>\n",
       "      <th>mean_fit_time</th>\n",
       "      <th>std_fit_time</th>\n",
       "      <th>mean_score_time</th>\n",
       "      <th>std_score_time</th>\n",
       "      <th>param_logisticregression__C</th>\n",
       "      <th>param_logisticregression__penalty</th>\n",
       "      <th>params</th>\n",
       "      <th>split0_test_score</th>\n",
       "      <th>split1_test_score</th>\n",
       "      <th>split2_test_score</th>\n",
       "      <th>split3_test_score</th>\n",
       "      <th>split4_test_score</th>\n",
       "      <th>mean_test_score</th>\n",
       "      <th>std_test_score</th>\n",
       "      <th>rank_test_score</th>\n",
       "    </tr>\n",
       "  </thead>\n",
       "  <tbody>\n",
       "    <tr>\n",
       "      <th>0</th>\n",
       "      <td>144.837716</td>\n",
       "      <td>18.865736</td>\n",
       "      <td>0.394867</td>\n",
       "      <td>0.036591</td>\n",
       "      <td>0.1</td>\n",
       "      <td>l1</td>\n",
       "      <td>{'logisticregression__C': 0.1, 'logisticregres...</td>\n",
       "      <td>0.787846</td>\n",
       "      <td>0.787856</td>\n",
       "      <td>0.787843</td>\n",
       "      <td>0.787843</td>\n",
       "      <td>0.787843</td>\n",
       "      <td>0.787846</td>\n",
       "      <td>0.000005</td>\n",
       "      <td>4</td>\n",
       "    </tr>\n",
       "    <tr>\n",
       "      <th>1</th>\n",
       "      <td>5.702942</td>\n",
       "      <td>0.306806</td>\n",
       "      <td>0.365245</td>\n",
       "      <td>0.015030</td>\n",
       "      <td>0.1</td>\n",
       "      <td>l2</td>\n",
       "      <td>{'logisticregression__C': 0.1, 'logisticregres...</td>\n",
       "      <td>0.787859</td>\n",
       "      <td>0.787856</td>\n",
       "      <td>0.787843</td>\n",
       "      <td>0.787843</td>\n",
       "      <td>0.787843</td>\n",
       "      <td>0.787849</td>\n",
       "      <td>0.000007</td>\n",
       "      <td>3</td>\n",
       "    </tr>\n",
       "    <tr>\n",
       "      <th>2</th>\n",
       "      <td>45.554518</td>\n",
       "      <td>4.161865</td>\n",
       "      <td>0.413077</td>\n",
       "      <td>0.024523</td>\n",
       "      <td>0.01</td>\n",
       "      <td>l1</td>\n",
       "      <td>{'logisticregression__C': 0.01, 'logisticregre...</td>\n",
       "      <td>0.787846</td>\n",
       "      <td>0.787856</td>\n",
       "      <td>0.787843</td>\n",
       "      <td>0.787843</td>\n",
       "      <td>0.787843</td>\n",
       "      <td>0.787846</td>\n",
       "      <td>0.000005</td>\n",
       "      <td>4</td>\n",
       "    </tr>\n",
       "    <tr>\n",
       "      <th>3</th>\n",
       "      <td>4.855440</td>\n",
       "      <td>0.486110</td>\n",
       "      <td>0.436092</td>\n",
       "      <td>0.054742</td>\n",
       "      <td>0.01</td>\n",
       "      <td>l2</td>\n",
       "      <td>{'logisticregression__C': 0.01, 'logisticregre...</td>\n",
       "      <td>0.787846</td>\n",
       "      <td>0.787856</td>\n",
       "      <td>0.787843</td>\n",
       "      <td>0.787843</td>\n",
       "      <td>0.787843</td>\n",
       "      <td>0.787846</td>\n",
       "      <td>0.000005</td>\n",
       "      <td>4</td>\n",
       "    </tr>\n",
       "    <tr>\n",
       "      <th>4</th>\n",
       "      <td>134.958645</td>\n",
       "      <td>15.782655</td>\n",
       "      <td>0.368447</td>\n",
       "      <td>0.010329</td>\n",
       "      <td>1</td>\n",
       "      <td>l1</td>\n",
       "      <td>{'logisticregression__C': 1, 'logisticregressi...</td>\n",
       "      <td>0.787885</td>\n",
       "      <td>0.787869</td>\n",
       "      <td>0.787856</td>\n",
       "      <td>0.787830</td>\n",
       "      <td>0.787882</td>\n",
       "      <td>0.787864</td>\n",
       "      <td>0.000020</td>\n",
       "      <td>1</td>\n",
       "    </tr>\n",
       "    <tr>\n",
       "      <th>5</th>\n",
       "      <td>8.758462</td>\n",
       "      <td>0.759540</td>\n",
       "      <td>0.361168</td>\n",
       "      <td>0.015217</td>\n",
       "      <td>1</td>\n",
       "      <td>l2</td>\n",
       "      <td>{'logisticregression__C': 1, 'logisticregressi...</td>\n",
       "      <td>0.787872</td>\n",
       "      <td>0.787843</td>\n",
       "      <td>0.787856</td>\n",
       "      <td>0.787817</td>\n",
       "      <td>0.787882</td>\n",
       "      <td>0.787854</td>\n",
       "      <td>0.000023</td>\n",
       "      <td>2</td>\n",
       "    </tr>\n",
       "    <tr>\n",
       "      <th>6</th>\n",
       "      <td>6.208883</td>\n",
       "      <td>0.226527</td>\n",
       "      <td>0.358011</td>\n",
       "      <td>0.011017</td>\n",
       "      <td>10</td>\n",
       "      <td>l1</td>\n",
       "      <td>{'logisticregression__C': 10, 'logisticregress...</td>\n",
       "      <td>0.787872</td>\n",
       "      <td>0.787817</td>\n",
       "      <td>0.787856</td>\n",
       "      <td>0.787791</td>\n",
       "      <td>0.787882</td>\n",
       "      <td>0.787843</td>\n",
       "      <td>0.000035</td>\n",
       "      <td>8</td>\n",
       "    </tr>\n",
       "    <tr>\n",
       "      <th>7</th>\n",
       "      <td>15.498917</td>\n",
       "      <td>2.684697</td>\n",
       "      <td>0.368123</td>\n",
       "      <td>0.020827</td>\n",
       "      <td>10</td>\n",
       "      <td>l2</td>\n",
       "      <td>{'logisticregression__C': 10, 'logisticregress...</td>\n",
       "      <td>0.787872</td>\n",
       "      <td>0.787830</td>\n",
       "      <td>0.787856</td>\n",
       "      <td>0.787791</td>\n",
       "      <td>0.787882</td>\n",
       "      <td>0.787846</td>\n",
       "      <td>0.000033</td>\n",
       "      <td>7</td>\n",
       "    </tr>\n",
       "  </tbody>\n",
       "</table>\n",
       "</div>"
      ],
      "text/plain": [
       "   mean_fit_time  std_fit_time  mean_score_time  std_score_time  \\\n",
       "0     144.837716     18.865736         0.394867        0.036591   \n",
       "1       5.702942      0.306806         0.365245        0.015030   \n",
       "2      45.554518      4.161865         0.413077        0.024523   \n",
       "3       4.855440      0.486110         0.436092        0.054742   \n",
       "4     134.958645     15.782655         0.368447        0.010329   \n",
       "5       8.758462      0.759540         0.361168        0.015217   \n",
       "6       6.208883      0.226527         0.358011        0.011017   \n",
       "7      15.498917      2.684697         0.368123        0.020827   \n",
       "\n",
       "  param_logisticregression__C param_logisticregression__penalty  \\\n",
       "0                         0.1                                l1   \n",
       "1                         0.1                                l2   \n",
       "2                        0.01                                l1   \n",
       "3                        0.01                                l2   \n",
       "4                           1                                l1   \n",
       "5                           1                                l2   \n",
       "6                          10                                l1   \n",
       "7                          10                                l2   \n",
       "\n",
       "                                              params  split0_test_score  \\\n",
       "0  {'logisticregression__C': 0.1, 'logisticregres...           0.787846   \n",
       "1  {'logisticregression__C': 0.1, 'logisticregres...           0.787859   \n",
       "2  {'logisticregression__C': 0.01, 'logisticregre...           0.787846   \n",
       "3  {'logisticregression__C': 0.01, 'logisticregre...           0.787846   \n",
       "4  {'logisticregression__C': 1, 'logisticregressi...           0.787885   \n",
       "5  {'logisticregression__C': 1, 'logisticregressi...           0.787872   \n",
       "6  {'logisticregression__C': 10, 'logisticregress...           0.787872   \n",
       "7  {'logisticregression__C': 10, 'logisticregress...           0.787872   \n",
       "\n",
       "   split1_test_score  split2_test_score  split3_test_score  split4_test_score  \\\n",
       "0           0.787856           0.787843           0.787843           0.787843   \n",
       "1           0.787856           0.787843           0.787843           0.787843   \n",
       "2           0.787856           0.787843           0.787843           0.787843   \n",
       "3           0.787856           0.787843           0.787843           0.787843   \n",
       "4           0.787869           0.787856           0.787830           0.787882   \n",
       "5           0.787843           0.787856           0.787817           0.787882   \n",
       "6           0.787817           0.787856           0.787791           0.787882   \n",
       "7           0.787830           0.787856           0.787791           0.787882   \n",
       "\n",
       "   mean_test_score  std_test_score  rank_test_score  \n",
       "0         0.787846        0.000005                4  \n",
       "1         0.787849        0.000007                3  \n",
       "2         0.787846        0.000005                4  \n",
       "3         0.787846        0.000005                4  \n",
       "4         0.787864        0.000020                1  \n",
       "5         0.787854        0.000023                2  \n",
       "6         0.787843        0.000035                8  \n",
       "7         0.787846        0.000033                7  "
      ]
     },
     "execution_count": 89,
     "metadata": {},
     "output_type": "execute_result"
    }
   ],
   "source": [
    "dfs"
   ]
  },
  {
   "cell_type": "markdown",
   "metadata": {},
   "source": [
    "RandomForest"
   ]
  },
  {
   "cell_type": "code",
   "execution_count": 46,
   "metadata": {},
   "outputs": [],
   "source": [
    "strings = 'randomforestclassifier__'\n",
    "\n",
    "params_dict = {'n_estimators' : [int(x) for x in np.linspace(start = 200, stop = 1000, num = 10)],\n",
    "'max_features' : ['auto', 'sqrt'],\n",
    "'max_depth' : [int(x) for x in np.linspace(10, 110, num = 11)],\n",
    "'min_samples_split' : [ 10 , 20, 25],\n",
    "'min_samples_leaf' : [ 4, 8, 10],\n",
    "'bootstrap' : [True, False]}"
   ]
  },
  {
   "cell_type": "code",
   "execution_count": 47,
   "metadata": {},
   "outputs": [
    {
     "data": {
      "text/plain": [
       "dict_items([('n_estimators', [200, 288, 377, 466, 555, 644, 733, 822, 911, 1000]), ('max_features', ['auto', 'sqrt']), ('max_depth', [10, 20, 30, 40, 50, 60, 70, 80, 90, 100, 110]), ('min_samples_split', [10, 20, 25]), ('min_samples_leaf', [4, 8, 10]), ('bootstrap', [True, False])])"
      ]
     },
     "execution_count": 47,
     "metadata": {},
     "output_type": "execute_result"
    }
   ],
   "source": [
    "params_dict.items()"
   ]
  },
  {
   "cell_type": "code",
   "execution_count": 48,
   "metadata": {},
   "outputs": [],
   "source": [
    "params_dict ={strings +k :v for k,v in params_dict.items()}"
   ]
  },
  {
   "cell_type": "code",
   "execution_count": 49,
   "metadata": {},
   "outputs": [
    {
     "data": {
      "text/plain": [
       "{'randomforestclassifier__n_estimators': [200,\n",
       "  288,\n",
       "  377,\n",
       "  466,\n",
       "  555,\n",
       "  644,\n",
       "  733,\n",
       "  822,\n",
       "  911,\n",
       "  1000],\n",
       " 'randomforestclassifier__max_features': ['auto', 'sqrt'],\n",
       " 'randomforestclassifier__max_depth': [10,\n",
       "  20,\n",
       "  30,\n",
       "  40,\n",
       "  50,\n",
       "  60,\n",
       "  70,\n",
       "  80,\n",
       "  90,\n",
       "  100,\n",
       "  110],\n",
       " 'randomforestclassifier__min_samples_split': [10, 20, 25],\n",
       " 'randomforestclassifier__min_samples_leaf': [4, 8, 10],\n",
       " 'randomforestclassifier__bootstrap': [True, False]}"
      ]
     },
     "execution_count": 49,
     "metadata": {},
     "output_type": "execute_result"
    }
   ],
   "source": [
    "params_dict"
   ]
  },
  {
   "cell_type": "code",
   "execution_count": 50,
   "metadata": {},
   "outputs": [],
   "source": [
    "rf=RandomForestClassifier(random_state=1)\n",
    "pipe=make_pipeline(ctrans,rf)"
   ]
  },
  {
   "cell_type": "code",
   "execution_count": 51,
   "metadata": {},
   "outputs": [
    {
     "data": {
      "text/plain": [
       "<382736x131 sparse matrix of type '<class 'numpy.float64'>'\n",
       "\twith 4592832 stored elements in Compressed Sparse Row format>"
      ]
     },
     "execution_count": 51,
     "metadata": {},
     "output_type": "execute_result"
    }
   ],
   "source": [
    "ctrans.fit_transform(x_train1)"
   ]
  },
  {
   "cell_type": "code",
   "execution_count": 52,
   "metadata": {},
   "outputs": [],
   "source": [
    "grid=RandomizedSearchCV(pipe,params_dict,cv=5,scoring=\"accuracy\")"
   ]
  },
  {
   "cell_type": "code",
   "execution_count": null,
   "metadata": {},
   "outputs": [],
   "source": [
    "grid.fit(x_train1,y_train1)"
   ]
  },
  {
   "cell_type": "code",
   "execution_count": null,
   "metadata": {},
   "outputs": [],
   "source": [
    "roc_auc_score(y_train1,grid.predict_proba(x_train1)[:,1])"
   ]
  },
  {
   "cell_type": "code",
   "execution_count": null,
   "metadata": {},
   "outputs": [],
   "source": [
    "roc_auc_score(y_test1,grid.predict_proba(x_test1)[:,1])"
   ]
  },
  {
   "cell_type": "code",
   "execution_count": null,
   "metadata": {},
   "outputs": [],
   "source": [
    "#random forest takes too much time.. we ll use xgboost"
   ]
  },
  {
   "cell_type": "markdown",
   "metadata": {},
   "source": [
    "XGBOOST"
   ]
  },
  {
   "cell_type": "code",
   "execution_count": 90,
   "metadata": {},
   "outputs": [],
   "source": [
    "parameters = {\n",
    "    'max_depth':range(2,10,1),\n",
    "    'n_estimators': [40,60,100,150],\n",
    "    'learning_rate': [0.1, 0.01,0.05], #shrinkage.. reduces overfitting\n",
    "    'reg_lambda':[0.1,0.01,1,10],\n",
    "    'reg_alpha':[0.1,0.01,1,10],\n",
    "}"
   ]
  },
  {
   "cell_type": "code",
   "execution_count": 91,
   "metadata": {},
   "outputs": [
    {
     "data": {
      "text/plain": [
       "dict_items([('max_depth', range(2, 10)), ('n_estimators', [40, 60, 100, 150]), ('learning_rate', [0.1, 0.01, 0.05]), ('reg_lambda', [0.1, 0.01, 1, 10]), ('reg_alpha', [0.1, 0.01, 1, 10])])"
      ]
     },
     "execution_count": 91,
     "metadata": {},
     "output_type": "execute_result"
    }
   ],
   "source": [
    "parameters.items()"
   ]
  },
  {
   "cell_type": "code",
   "execution_count": 92,
   "metadata": {},
   "outputs": [],
   "source": [
    "strings=\"xgb__\"\n",
    "\n",
    "xgb_params={}\n",
    "for k,v in parameters.items():\n",
    "    xgb_params[strings+k]=v"
   ]
  },
  {
   "cell_type": "code",
   "execution_count": 93,
   "metadata": {},
   "outputs": [
    {
     "data": {
      "text/plain": [
       "{'xgb__max_depth': range(2, 10),\n",
       " 'xgb__n_estimators': [40, 60, 100, 150],\n",
       " 'xgb__learning_rate': [0.1, 0.01, 0.05],\n",
       " 'xgb__reg_lambda': [0.1, 0.01, 1, 10],\n",
       " 'xgb__reg_alpha': [0.1, 0.01, 1, 10]}"
      ]
     },
     "execution_count": 93,
     "metadata": {},
     "output_type": "execute_result"
    }
   ],
   "source": [
    "xgb_params"
   ]
  },
  {
   "cell_type": "code",
   "execution_count": 94,
   "metadata": {},
   "outputs": [],
   "source": [
    "xgb=xgbs.XGBClassifier()\n",
    "pipe=Pipeline([(\"columntransfer\",ctrans),(\"xgb\",xgb)])"
   ]
  },
  {
   "cell_type": "code",
   "execution_count": 95,
   "metadata": {},
   "outputs": [],
   "source": [
    "grid=RandomizedSearchCV(pipe,xgb_params,cv=5,scoring=\"accuracy\")"
   ]
  },
  {
   "cell_type": "code",
   "execution_count": 96,
   "metadata": {},
   "outputs": [
    {
     "data": {
      "text/plain": [
       "RandomizedSearchCV(cv=5, error_score=nan,\n",
       "                   estimator=Pipeline(memory=None,\n",
       "                                      steps=[('columntransfer',\n",
       "                                              ColumnTransformer(n_jobs=None,\n",
       "                                                                remainder='drop',\n",
       "                                                                sparse_threshold=0.3,\n",
       "                                                                transformer_weights=None,\n",
       "                                                                transformers=[('pipeline-1',\n",
       "                                                                               Pipeline(memory=None,\n",
       "                                                                                        steps=[('simpleimputer',\n",
       "                                                                                                SimpleImputer(add_indicator=False,\n",
       "                                                                                                              copy=True,\n",
       "                                                                                                              fill_value=None,\n",
       "                                                                                                              missing_values=nan,\n",
       "                                                                                                              strategy=...\n",
       "                                      verbose=False),\n",
       "                   iid='deprecated', n_iter=10, n_jobs=None,\n",
       "                   param_distributions={'xgb__learning_rate': [0.1, 0.01, 0.05],\n",
       "                                        'xgb__max_depth': range(2, 10),\n",
       "                                        'xgb__n_estimators': [40, 60, 100, 150],\n",
       "                                        'xgb__reg_alpha': [0.1, 0.01, 1, 10],\n",
       "                                        'xgb__reg_lambda': [0.1, 0.01, 1, 10]},\n",
       "                   pre_dispatch='2*n_jobs', random_state=None, refit=True,\n",
       "                   return_train_score=False, scoring='accuracy', verbose=0)"
      ]
     },
     "execution_count": 96,
     "metadata": {},
     "output_type": "execute_result"
    }
   ],
   "source": [
    "grid.fit(x_train1,y_train1)"
   ]
  },
  {
   "cell_type": "code",
   "execution_count": 97,
   "metadata": {},
   "outputs": [
    {
     "data": {
      "text/plain": [
       "0.6214266876127915"
      ]
     },
     "execution_count": 97,
     "metadata": {},
     "output_type": "execute_result"
    }
   ],
   "source": [
    "roc_auc_score(y_train1,grid.predict_proba(x_train1)[:,1])"
   ]
  },
  {
   "cell_type": "code",
   "execution_count": 98,
   "metadata": {},
   "outputs": [
    {
     "data": {
      "text/plain": [
       "0.6189434338409635"
      ]
     },
     "execution_count": 98,
     "metadata": {},
     "output_type": "execute_result"
    }
   ],
   "source": [
    "roc_auc_score(y_test1,grid.predict_proba(x_test1)[:,1])"
   ]
  },
  {
   "cell_type": "code",
   "execution_count": 99,
   "metadata": {},
   "outputs": [
    {
     "data": {
      "text/plain": [
       "0.6214266876127915"
      ]
     },
     "execution_count": 99,
     "metadata": {},
     "output_type": "execute_result"
    }
   ],
   "source": [
    "roc_auc_score(y_train1,grid.predict_proba(x_train)[:,1])"
   ]
  },
  {
   "cell_type": "code",
   "execution_count": 100,
   "metadata": {},
   "outputs": [
    {
     "data": {
      "text/plain": [
       "0.6189434338409635"
      ]
     },
     "execution_count": 100,
     "metadata": {},
     "output_type": "execute_result"
    }
   ],
   "source": [
    "roc_auc_score(y_test1,grid.predict_proba(x_test)[:,1])"
   ]
  },
  {
   "cell_type": "code",
   "execution_count": 101,
   "metadata": {},
   "outputs": [
    {
     "data": {
      "text/plain": [
       "{'xgb__reg_lambda': 10,\n",
       " 'xgb__reg_alpha': 10,\n",
       " 'xgb__n_estimators': 60,\n",
       " 'xgb__max_depth': 8,\n",
       " 'xgb__learning_rate': 0.01}"
      ]
     },
     "execution_count": 101,
     "metadata": {},
     "output_type": "execute_result"
    }
   ],
   "source": [
    "grid.best_params_"
   ]
  },
  {
   "cell_type": "markdown",
   "metadata": {},
   "source": [
    "## default importance"
   ]
  },
  {
   "cell_type": "code",
   "execution_count": 103,
   "metadata": {},
   "outputs": [
    {
     "data": {
      "text/plain": [
       "array([7.58195471e-04, 1.78985833e-03, 1.51755648e-05, 0.00000000e+00,\n",
       "       2.97765923e-03, 2.18038005e-03, 3.51556321e-03, 0.00000000e+00,\n",
       "       1.28275575e-02, 0.00000000e+00], dtype=float32)"
      ]
     },
     "execution_count": 103,
     "metadata": {},
     "output_type": "execute_result"
    }
   ],
   "source": [
    "grid.best_estimator_[\"xgb\"].feature_importances_[0:10]"
   ]
  },
  {
   "cell_type": "code",
   "execution_count": 105,
   "metadata": {},
   "outputs": [],
   "source": [
    "onehotcols=ctrans.named_transformers_['pipeline-2']['onehotencoder'].get_feature_names()"
   ]
  },
  {
   "cell_type": "code",
   "execution_count": 108,
   "metadata": {},
   "outputs": [],
   "source": [
    "all_cols=list(num_cols)+list(onehotcols)"
   ]
  },
  {
   "cell_type": "code",
   "execution_count": 117,
   "metadata": {},
   "outputs": [],
   "source": [
    "df=pd.DataFrame(grid.best_estimator_[\"xgb\"].feature_importances_,index=all_cols).reset_index(drop=False)"
   ]
  },
  {
   "cell_type": "code",
   "execution_count": 118,
   "metadata": {},
   "outputs": [
    {
     "data": {
      "text/html": [
       "<div>\n",
       "<style scoped>\n",
       "    .dataframe tbody tr th:only-of-type {\n",
       "        vertical-align: middle;\n",
       "    }\n",
       "\n",
       "    .dataframe tbody tr th {\n",
       "        vertical-align: top;\n",
       "    }\n",
       "\n",
       "    .dataframe thead th {\n",
       "        text-align: right;\n",
       "    }\n",
       "</style>\n",
       "<table border=\"1\" class=\"dataframe\">\n",
       "  <thead>\n",
       "    <tr style=\"text-align: right;\">\n",
       "      <th></th>\n",
       "      <th>index</th>\n",
       "      <th>0</th>\n",
       "    </tr>\n",
       "  </thead>\n",
       "  <tbody>\n",
       "    <tr>\n",
       "      <th>0</th>\n",
       "      <td>day_diff</td>\n",
       "      <td>0.000758</td>\n",
       "    </tr>\n",
       "    <tr>\n",
       "      <th>1</th>\n",
       "      <td>x0_prod_015</td>\n",
       "      <td>0.001790</td>\n",
       "    </tr>\n",
       "    <tr>\n",
       "      <th>2</th>\n",
       "      <td>x0_prod_017</td>\n",
       "      <td>0.000015</td>\n",
       "    </tr>\n",
       "    <tr>\n",
       "      <th>3</th>\n",
       "      <td>x0_prod_018</td>\n",
       "      <td>0.000000</td>\n",
       "    </tr>\n",
       "    <tr>\n",
       "      <th>4</th>\n",
       "      <td>x0_prod_02</td>\n",
       "      <td>0.002978</td>\n",
       "    </tr>\n",
       "    <tr>\n",
       "      <th>...</th>\n",
       "      <td>...</td>\n",
       "      <td>...</td>\n",
       "    </tr>\n",
       "    <tr>\n",
       "      <th>126</th>\n",
       "      <td>x9_Closed_with_relief</td>\n",
       "      <td>0.000000</td>\n",
       "    </tr>\n",
       "    <tr>\n",
       "      <th>127</th>\n",
       "      <td>x9_Closed_without_relief</td>\n",
       "      <td>0.147216</td>\n",
       "    </tr>\n",
       "    <tr>\n",
       "      <th>128</th>\n",
       "      <td>x9_Untimely_response</td>\n",
       "      <td>0.000000</td>\n",
       "    </tr>\n",
       "    <tr>\n",
       "      <th>129</th>\n",
       "      <td>x10_No</td>\n",
       "      <td>0.000114</td>\n",
       "    </tr>\n",
       "    <tr>\n",
       "      <th>130</th>\n",
       "      <td>x10_Yes</td>\n",
       "      <td>0.000000</td>\n",
       "    </tr>\n",
       "  </tbody>\n",
       "</table>\n",
       "<p>131 rows × 2 columns</p>\n",
       "</div>"
      ],
      "text/plain": [
       "                        index         0\n",
       "0                    day_diff  0.000758\n",
       "1                 x0_prod_015  0.001790\n",
       "2                 x0_prod_017  0.000015\n",
       "3                 x0_prod_018  0.000000\n",
       "4                  x0_prod_02  0.002978\n",
       "..                        ...       ...\n",
       "126     x9_Closed_with_relief  0.000000\n",
       "127  x9_Closed_without_relief  0.147216\n",
       "128      x9_Untimely_response  0.000000\n",
       "129                    x10_No  0.000114\n",
       "130                   x10_Yes  0.000000\n",
       "\n",
       "[131 rows x 2 columns]"
      ]
     },
     "execution_count": 118,
     "metadata": {},
     "output_type": "execute_result"
    }
   ],
   "source": [
    "df"
   ]
  },
  {
   "cell_type": "code",
   "execution_count": null,
   "metadata": {},
   "outputs": [],
   "source": []
  }
 ],
 "metadata": {
  "kernelspec": {
   "display_name": "Python 3",
   "language": "python",
   "name": "python3"
  },
  "language_info": {
   "codemirror_mode": {
    "name": "ipython",
    "version": 3
   },
   "file_extension": ".py",
   "mimetype": "text/x-python",
   "name": "python",
   "nbconvert_exporter": "python",
   "pygments_lexer": "ipython3",
   "version": "3.7.7"
  }
 },
 "nbformat": 4,
 "nbformat_minor": 4
}
